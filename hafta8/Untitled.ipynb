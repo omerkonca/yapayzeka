{
 "cells": [
  {
   "cell_type": "markdown",
   "id": "d15fbd5a",
   "metadata": {},
   "source": [
    "Yaprak Sınıflandırması\n",
    "Gerekli Kütüphanelerin Eklenmesi"
   ]
  },
  {
   "cell_type": "code",
   "execution_count": 162,
   "id": "fd9c13d7",
   "metadata": {},
   "outputs": [],
   "source": [
    "import pandas as pd\n",
    "import numpy as np\n",
    "from sklearn.preprocessing import LabelEncoder"
   ]
  },
  {
   "cell_type": "markdown",
   "id": "07d4a557",
   "metadata": {},
   "source": [
    "\n",
    "Test ve Eğitim Verilerinin Okunması\n"
   ]
  },
  {
   "cell_type": "code",
   "execution_count": 163,
   "id": "7f75d55f",
   "metadata": {},
   "outputs": [],
   "source": [
    "train=pd.read_csv(\"C:/Users/omerk/Documents/GitHub/yapayzeka/hafta8/yaprakveriseti/train.csv\")\n",
    "test=pd.read_csv(\"C:/Users/omerk/Documents/GitHub/yapayzeka/hafta8/yaprakveriseti/test.csv\")"
   ]
  },
  {
   "cell_type": "markdown",
   "id": "5b8a6fcf",
   "metadata": {},
   "source": [
    "Sınıfların Belirlenmesi ve Etiketlenmesi\n"
   ]
  },
  {
   "cell_type": "code",
   "execution_count": 164,
   "id": "990d0de8",
   "metadata": {},
   "outputs": [],
   "source": [
    "label_encoder=LabelEncoder().fit(train.species)\n",
    "labels=label_encoder.transform(train.species)\n",
    "classes =list(label_encoder.classes_)"
   ]
  },
  {
   "cell_type": "markdown",
   "id": "156ee2ae",
   "metadata": {},
   "source": [
    "Verilerin Hazırlanması , Özellik ve Sınıf Sayısının Belirlenmesi "
   ]
  },
  {
   "cell_type": "code",
   "execution_count": 165,
   "id": "196e2829",
   "metadata": {},
   "outputs": [],
   "source": [
    "train=train.drop([\"id\",\"species\"],axis=1)\n",
    "test=test.drop([\"id\"],axis=1)\n",
    "nb_features=192\n",
    "nb_classes=len(classes)"
   ]
  },
  {
   "cell_type": "markdown",
   "id": "9d2862d9",
   "metadata": {},
   "source": [
    "Eğitim Verilerinin Standartlaştırılması"
   ]
  },
  {
   "cell_type": "code",
   "execution_count": 166,
   "id": "a1f5d789",
   "metadata": {},
   "outputs": [],
   "source": [
    "from sklearn.preprocessing import StandardScaler\n",
    "scaler=StandardScaler().fit(train.values)\n",
    "train=scaler.transform(train.values)"
   ]
  },
  {
   "cell_type": "markdown",
   "id": "9ddb1b8c",
   "metadata": {},
   "source": [
    "Eğitim Verisinin Eğitim ve Doğrulama İçin Ayarlanması"
   ]
  },
  {
   "cell_type": "code",
   "execution_count": 167,
   "id": "bd7d24e6",
   "metadata": {},
   "outputs": [],
   "source": [
    "from sklearn.model_selection import train_test_split\n",
    "x_train , x_valid , y_train , y_valid = train_test_split(train, labels ,test_size=0.1)"
   ]
  },
  {
   "cell_type": "markdown",
   "id": "9b89e09e",
   "metadata": {},
   "source": [
    "Etiketlerin kategorileştirilmesi\n"
   ]
  },
  {
   "cell_type": "code",
   "execution_count": 168,
   "id": "32fdaf7e",
   "metadata": {},
   "outputs": [],
   "source": [
    "from tensorflow.keras.utils import to_categorical\n",
    "y_train=to_categorical(y_train)\n",
    "y_valid=to_categorical(y_valid)\n",
    "\n",
    "x_train=np.array(x_train).reshape(891,192,1)\n",
    "x_valid=np.array(x_valid).reshape(99,192,1)"
   ]
  },
  {
   "cell_type": "markdown",
   "id": "7f208c74",
   "metadata": {},
   "source": [
    "Modelin oluşturulması \n"
   ]
  },
  {
   "cell_type": "code",
   "execution_count": 169,
   "id": "02e76460",
   "metadata": {},
   "outputs": [
    {
     "name": "stdout",
     "output_type": "stream",
     "text": [
      "Model: \"sequential_5\"\n",
      "_________________________________________________________________\n",
      " Layer (type)                Output Shape              Param #   \n",
      "=================================================================\n",
      " conv1d_10 (Conv1D)          (None, 192, 512)          1024      \n",
      "                                                                 \n",
      " activation_10 (Activation)  (None, 192, 512)          0         \n",
      "                                                                 \n",
      " max_pooling1d_10 (MaxPoolin  (None, 96, 512)          0         \n",
      " g1D)                                                            \n",
      "                                                                 \n",
      " conv1d_11 (Conv1D)          (None, 96, 256)           131328    \n",
      "                                                                 \n",
      " activation_11 (Activation)  (None, 96, 256)           0         \n",
      "                                                                 \n",
      " max_pooling1d_11 (MaxPoolin  (None, 48, 256)          0         \n",
      " g1D)                                                            \n",
      "                                                                 \n",
      " dropout_5 (Dropout)         (None, 48, 256)           0         \n",
      "                                                                 \n",
      " flatten_5 (Flatten)         (None, 12288)             0         \n",
      "                                                                 \n",
      " dense_15 (Dense)            (None, 2048)              25167872  \n",
      "                                                                 \n",
      " dense_16 (Dense)            (None, 1024)              2098176   \n",
      "                                                                 \n",
      " dense_17 (Dense)            (None, 99)                101475    \n",
      "                                                                 \n",
      "=================================================================\n",
      "Total params: 27,499,875\n",
      "Trainable params: 27,499,875\n",
      "Non-trainable params: 0\n",
      "_________________________________________________________________\n"
     ]
    }
   ],
   "source": [
    "from tensorflow.keras.models import Sequential\n",
    "from tensorflow.keras.layers import Dense,Activation,Conv1D,Dropout,MaxPooling1D,Flatten\n",
    "\n",
    "model=Sequential()\n",
    "model.add(Conv1D(512,1,input_shape=(nb_features,1)))\n",
    "model.add(Activation(\"relu\"))\n",
    "model.add(MaxPooling1D(2))\n",
    "model.add(Conv1D(256,1))\n",
    "model.add(Activation(\"relu\"))\n",
    "model.add(MaxPooling1D(2))\n",
    "model.add(Dropout(0.25))\n",
    "model.add(Flatten())\n",
    "model.add(Dense(2048,activation=\"relu\"))\n",
    "model.add(Dense(1024,activation=\"relu\"))\n",
    "model.add(Dense(nb_classes,activation=\"softmax\"))\n",
    "model.summary()"
   ]
  },
  {
   "cell_type": "markdown",
   "id": "383a78b5",
   "metadata": {},
   "source": [
    "Ağın Derlenmesi"
   ]
  },
  {
   "cell_type": "code",
   "execution_count": 170,
   "id": "bb415649",
   "metadata": {},
   "outputs": [],
   "source": [
    "model.compile(loss=\"categorical_crossentropy\",optimizer=\"adam\",metrics=[\"accuracy\"])"
   ]
  },
  {
   "cell_type": "markdown",
   "id": "4617b2ce",
   "metadata": {},
   "source": [
    "Modelin Eğitilmesi\n"
   ]
  },
  {
   "cell_type": "code",
   "execution_count": 171,
   "id": "e4fbf6d0",
   "metadata": {},
   "outputs": [
    {
     "name": "stdout",
     "output_type": "stream",
     "text": [
      "Epoch 1/15\n",
      "28/28 [==============================] - 14s 481ms/step - loss: 3.5663 - accuracy: 0.2267 - val_loss: 1.9630 - val_accuracy: 0.4949\n",
      "Epoch 2/15\n",
      "28/28 [==============================] - 14s 511ms/step - loss: 0.9505 - accuracy: 0.7565 - val_loss: 1.4199 - val_accuracy: 0.6667\n",
      "Epoch 3/15\n",
      "28/28 [==============================] - 13s 459ms/step - loss: 0.3487 - accuracy: 0.9136 - val_loss: 0.9514 - val_accuracy: 0.7475\n",
      "Epoch 4/15\n",
      "28/28 [==============================] - 13s 465ms/step - loss: 0.1538 - accuracy: 0.9596 - val_loss: 0.6803 - val_accuracy: 0.8889\n",
      "Epoch 5/15\n",
      "28/28 [==============================] - 13s 476ms/step - loss: 0.1666 - accuracy: 0.9585 - val_loss: 0.6849 - val_accuracy: 0.8788\n",
      "Epoch 6/15\n",
      "28/28 [==============================] - 14s 489ms/step - loss: 0.0887 - accuracy: 0.9787 - val_loss: 0.6652 - val_accuracy: 0.8485\n",
      "Epoch 7/15\n",
      "28/28 [==============================] - 13s 482ms/step - loss: 0.0838 - accuracy: 0.9832 - val_loss: 0.6599 - val_accuracy: 0.8788\n",
      "Epoch 8/15\n",
      "28/28 [==============================] - 14s 490ms/step - loss: 0.1230 - accuracy: 0.9798 - val_loss: 0.5478 - val_accuracy: 0.8586\n",
      "Epoch 9/15\n",
      "28/28 [==============================] - 14s 496ms/step - loss: 0.0349 - accuracy: 0.9955 - val_loss: 0.6225 - val_accuracy: 0.9091\n",
      "Epoch 10/15\n",
      "28/28 [==============================] - 14s 494ms/step - loss: 0.0293 - accuracy: 0.9955 - val_loss: 0.5853 - val_accuracy: 0.9192\n",
      "Epoch 11/15\n",
      "28/28 [==============================] - 13s 474ms/step - loss: 0.0140 - accuracy: 0.9989 - val_loss: 0.5518 - val_accuracy: 0.9293\n",
      "Epoch 12/15\n",
      "28/28 [==============================] - 14s 493ms/step - loss: 9.0660e-04 - accuracy: 1.0000 - val_loss: 0.5413 - val_accuracy: 0.9293\n",
      "Epoch 13/15\n",
      "28/28 [==============================] - 13s 482ms/step - loss: 3.0991e-04 - accuracy: 1.0000 - val_loss: 0.5464 - val_accuracy: 0.9293\n",
      "Epoch 14/15\n",
      "28/28 [==============================] - 14s 517ms/step - loss: 2.0412e-04 - accuracy: 1.0000 - val_loss: 0.5592 - val_accuracy: 0.9293\n",
      "Epoch 15/15\n",
      "28/28 [==============================] - 14s 509ms/step - loss: 1.4277e-04 - accuracy: 1.0000 - val_loss: 0.5692 - val_accuracy: 0.9293\n"
     ]
    },
    {
     "data": {
      "text/plain": [
       "<keras.callbacks.History at 0x13a360b1f10>"
      ]
     },
     "execution_count": 171,
     "metadata": {},
     "output_type": "execute_result"
    }
   ],
   "source": [
    "model.fit(x_train,y_train,epochs=15,validation_data=(x_valid,y_valid))"
   ]
  },
  {
   "cell_type": "markdown",
   "id": "429b6622",
   "metadata": {},
   "source": [
    "Ortalama Değerlerin Gösterilmesi\n"
   ]
  },
  {
   "cell_type": "code",
   "execution_count": 172,
   "id": "b90deee1",
   "metadata": {},
   "outputs": [],
   "source": [
    "#accuracy yerine f1score, kesinlik(precision) , duyarlılık(sensivity) ve özgüllük(specificity)"
   ]
  },
  {
   "cell_type": "code",
   "execution_count": null,
   "id": "52db7542",
   "metadata": {},
   "outputs": [],
   "source": []
  },
  {
   "cell_type": "code",
   "execution_count": 175,
   "id": "7545979c",
   "metadata": {},
   "outputs": [
    {
     "name": "stdout",
     "output_type": "stream",
     "text": [
      "('Ortalama Eğitim Kaybı: ', 0.3707367708935635)\n",
      "('Ortalama Eğitim Başarımı: ', 0.9164234866698583)\n",
      "('Ortalama Doğrulama Kaybı: ', 0.7698850194613139)\n",
      "('Ortalama Doğrulama Başarımı: ', 0.8491582453250885)\n"
     ]
    }
   ],
   "source": [
    "print((\"Ortalama Eğitim Kaybı: \",np.mean(model.history.history[\"loss\"])))\n",
    "print((\"Ortalama Eğitim Başarımı: \",np.mean(model.history.history[\"accuracy\"])))\n",
    "print((\"Ortalama Doğrulama Kaybı: \",np.mean(model.history.history[\"val_loss\"])))\n",
    "print((\"Ortalama Doğrulama Başarımı: \",np.mean(model.history.history[\"val_accuracy\"])))"
   ]
  },
  {
   "cell_type": "markdown",
   "id": "8b831a3f",
   "metadata": {},
   "source": [
    "Değerlerin grafik üzerinde gösterilmesi\n",
    "\n"
   ]
  },
  {
   "cell_type": "code",
   "execution_count": 176,
   "id": "7d8c8609",
   "metadata": {},
   "outputs": [
    {
     "data": {
      "image/png": "[encoded data removed]",
      "text/plain": [
       "<Figure size 1080x1080 with 2 Axes>"
      ]
     },
     "metadata": {
      "needs_background": "light"
     },
     "output_type": "display_data"
    }
   ],
   "source": [
    "import matplotlib.pyplot as plt\n",
    "fig,(ax1,ax2)=plt.subplots(2,1,figsize=(15,15))\n",
    "ax1.plot(model.history.history['loss'],color='g',label=\"Eğitim Kaybı\")\n",
    "ax1.plot(model.history.history['val_loss'],color='y',label=\"Doğrulama kaybı\")\n",
    "ax1.set_xticks(np.arange(15,75,15))\n",
    "ax2.plot(model.history.history['accuracy'],color='b',label=\"Eğitim Başarımı\")\n",
    "ax2.plot(model.history.history['val_accuracy'],color='r',label=\"Doğrulama Başarımı\")\n",
    "ax2.set_xticks(np.arange(15,75,15))\n",
    "plt.legend()\n",
    "plt.show()"
   ]
  },
  {
   "cell_type": "code",
   "execution_count": null,
   "id": "8328a943",
   "metadata": {},
   "outputs": [],
   "source": []
  }
 ],
 "metadata": {
  "kernelspec": {
   "display_name": "Python 3 (ipykernel)",
   "language": "python",
   "name": "python3"
  },
  "language_info": {
   "codemirror_mode": {
    "name": "ipython",
    "version": 3
   },
   "file_extension": ".py",
   "mimetype": "text/x-python",
   "name": "python",
   "nbconvert_exporter": "python",
   "pygments_lexer": "ipython3",
   "version": "3.9.12"
  }
 },
 "nbformat": 4,
 "nbformat_minor": 5
}

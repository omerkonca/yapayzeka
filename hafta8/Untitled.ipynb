{
 "cells": [
  {
   "cell_type": "markdown",
   "id": "4a67e094",
   "metadata": {},
   "source": [
    "Yaprak Sınıflandırması\n",
    "Gerekli Kütüphanelerin Eklenmesi"
   ]
  },
  {
   "cell_type": "code",
   "execution_count": 133,
   "id": "fd9c13d7",
   "metadata": {},
   "outputs": [],
   "source": [
    "import pandas as pd\n",
    "import numpy as np\n",
    "from sklearn.preprocessing import LabelEncoder"
   ]
  },
  {
   "cell_type": "markdown",
   "id": "ae5b1152",
   "metadata": {},
   "source": [
    "\n",
    "Test ve Eğitim Verilerinin Okunması\n"
   ]
  },
  {
   "cell_type": "code",
   "execution_count": 134,
   "id": "7f75d55f",
   "metadata": {},
   "outputs": [],
   "source": [
    "train=pd.read_csv(\"C:/Users/omerk/Documents/GitHub/yapayzeka/hafta8/yaprakveriseti/train.csv\")\n",
    "test=pd.read_csv(\"C:/Users/omerk/Documents/GitHub/yapayzeka/hafta8/yaprakveriseti/test.csv\")"
   ]
  },
  {
   "cell_type": "markdown",
   "id": "dfd12bee",
   "metadata": {},
   "source": [
    "Sınıfların Belirlenmesi ve Etiketlenmesi\n"
   ]
  },
  {
   "cell_type": "code",
   "execution_count": 135,
   "id": "ad294337",
   "metadata": {},
   "outputs": [],
   "source": [
    "label_encoder=LabelEncoder().fit(train.species)\n",
    "labels=label_encoder.transform(train.species)\n",
    "classes =list(label_encoder.classes_)"
   ]
  },
  {
   "cell_type": "markdown",
   "id": "2d389c26",
   "metadata": {},
   "source": [
    "Verilerin Hazırlanması , Özellik ve Sınıf Sayısının Belirlenmesi "
   ]
  },
  {
   "cell_type": "code",
   "execution_count": 136,
   "id": "e155921a",
   "metadata": {},
   "outputs": [],
   "source": [
    "train=train.drop([\"id\",\"species\"],axis=1)\n",
    "test=test.drop([\"id\"],axis=1)\n",
    "nb_features=192\n",
    "nb_classes=len(classes)"
   ]
  },
  {
   "cell_type": "markdown",
   "id": "ea9f4feb",
   "metadata": {},
   "source": [
    "Eğitim Verilerinin Standartlaştırılması"
   ]
  },
  {
   "cell_type": "code",
   "execution_count": 137,
   "id": "ed954e11",
   "metadata": {},
   "outputs": [],
   "source": [
    "from sklearn.preprocessing import StandardScaler\n",
    "scaler=StandardScaler().fit(train.values)\n",
    "train=scaler.transform(train.values)"
   ]
  },
  {
   "cell_type": "markdown",
   "id": "f62a10e3",
   "metadata": {},
   "source": [
    "Eğitim Verisinin Eğitim ve Doğrulama İçin Ayarlanması"
   ]
  },
  {
   "cell_type": "code",
   "execution_count": 138,
   "id": "a021451e",
   "metadata": {},
   "outputs": [],
   "source": [
    "from sklearn.model_selection import train_test_split\n",
    "x_train , x_valid , y_train , y_valid = train_test_split(train, labels ,test_size=0.1)"
   ]
  },
  {
   "cell_type": "markdown",
   "id": "aefad87d",
   "metadata": {},
   "source": [
    "Etiketlerin kategorileştirilmesi\n"
   ]
  },
  {
   "cell_type": "code",
   "execution_count": 139,
   "id": "51c95075",
   "metadata": {},
   "outputs": [],
   "source": [
    "from tensorflow.keras.utils import to_categorical\n",
    "y_train=to_categorical(y_train)\n",
    "y_valid=to_categorical(y_valid)\n",
    "\n",
    "x_train=np.array(x_train).reshape(891,192,1)\n",
    "x_valid=np.array(x_valid).reshape(99,192,1)"
   ]
  },
  {
   "cell_type": "markdown",
   "id": "88d4f7ca",
   "metadata": {},
   "source": [
    "Modelin oluşturulması \n"
   ]
  },
  {
   "cell_type": "code",
   "execution_count": 140,
   "id": "d613b2e6",
   "metadata": {},
   "outputs": [
    {
     "name": "stdout",
     "output_type": "stream",
     "text": [
      "Model: \"sequential_3\"\n",
      "_________________________________________________________________\n",
      " Layer (type)                Output Shape              Param #   \n",
      "=================================================================\n",
      " conv1d_6 (Conv1D)           (None, 192, 512)          1024      \n",
      "                                                                 \n",
      " activation_6 (Activation)   (None, 192, 512)          0         \n",
      "                                                                 \n",
      " max_pooling1d_6 (MaxPooling  (None, 96, 512)          0         \n",
      " 1D)                                                             \n",
      "                                                                 \n",
      " conv1d_7 (Conv1D)           (None, 96, 256)           131328    \n",
      "                                                                 \n",
      " activation_7 (Activation)   (None, 96, 256)           0         \n",
      "                                                                 \n",
      " max_pooling1d_7 (MaxPooling  (None, 48, 256)          0         \n",
      " 1D)                                                             \n",
      "                                                                 \n",
      " dropout_3 (Dropout)         (None, 48, 256)           0         \n",
      "                                                                 \n",
      " flatten_3 (Flatten)         (None, 12288)             0         \n",
      "                                                                 \n",
      " dense_9 (Dense)             (None, 2048)              25167872  \n",
      "                                                                 \n",
      " dense_10 (Dense)            (None, 1024)              2098176   \n",
      "                                                                 \n",
      " dense_11 (Dense)            (None, 99)                101475    \n",
      "                                                                 \n",
      "=================================================================\n",
      "Total params: 27,499,875\n",
      "Trainable params: 27,499,875\n",
      "Non-trainable params: 0\n",
      "_________________________________________________________________\n"
     ]
    }
   ],
   "source": [
    "from tensorflow.keras.models import Sequential\n",
    "from tensorflow.keras.layers import Dense,Activation,Conv1D,Dropout,MaxPooling1D,Flatten\n",
    "\n",
    "model=Sequential()\n",
    "model.add(Conv1D(512,1,input_shape=(nb_features,1)))\n",
    "model.add(Activation(\"relu\"))\n",
    "model.add(MaxPooling1D(2))\n",
    "model.add(Conv1D(256,1))\n",
    "model.add(Activation(\"relu\"))\n",
    "model.add(MaxPooling1D(2))\n",
    "model.add(Dropout(0.25))\n",
    "model.add(Flatten())\n",
    "model.add(Dense(2048,activation=\"relu\"))\n",
    "model.add(Dense(1024,activation=\"relu\"))\n",
    "model.add(Dense(nb_classes,activation=\"softmax\"))\n",
    "model.summary()"
   ]
  },
  {
   "cell_type": "markdown",
   "id": "cbf2a0c4",
   "metadata": {},
   "source": [
    "Ağın Derlenmesi"
   ]
  },
  {
   "cell_type": "code",
   "execution_count": 141,
   "id": "caa5bdae",
   "metadata": {},
   "outputs": [],
   "source": [
    "model.compile(loss=\"categorical_crossentropy\",optimizer=\"adam\",metrics=[\"accuracy\"])"
   ]
  },
  {
   "cell_type": "markdown",
   "id": "5e8099ea",
   "metadata": {},
   "source": [
    "Modelin Eğitilmesi\n"
   ]
  },
  {
   "cell_type": "code",
   "execution_count": 142,
   "id": "d85fe081",
   "metadata": {},
   "outputs": [
    {
     "name": "stdout",
     "output_type": "stream",
     "text": [
      "Epoch 1/15\n",
      "28/28 [==============================] - 14s 471ms/step - loss: 3.6656 - accuracy: 0.1942 - val_loss: 1.6830 - val_accuracy: 0.5657\n",
      "Epoch 2/15\n",
      "28/28 [==============================] - 13s 459ms/step - loss: 1.0467 - accuracy: 0.7508 - val_loss: 1.0318 - val_accuracy: 0.7576\n",
      "Epoch 3/15\n",
      "28/28 [==============================] - 13s 457ms/step - loss: 0.3483 - accuracy: 0.8990 - val_loss: 0.8260 - val_accuracy: 0.7475\n",
      "Epoch 4/15\n",
      "28/28 [==============================] - 13s 453ms/step - loss: 0.2526 - accuracy: 0.9428 - val_loss: 0.6059 - val_accuracy: 0.8384\n",
      "Epoch 5/15\n",
      "28/28 [==============================] - 14s 500ms/step - loss: 0.1161 - accuracy: 0.9607 - val_loss: 0.7594 - val_accuracy: 0.8687\n",
      "Epoch 6/15\n",
      "28/28 [==============================] - 14s 492ms/step - loss: 0.1009 - accuracy: 0.9731 - val_loss: 0.6332 - val_accuracy: 0.8485\n",
      "Epoch 7/15\n",
      "28/28 [==============================] - 14s 499ms/step - loss: 0.1052 - accuracy: 0.9764 - val_loss: 0.5718 - val_accuracy: 0.8384\n",
      "Epoch 8/15\n",
      "28/28 [==============================] - 14s 492ms/step - loss: 0.1026 - accuracy: 0.9843 - val_loss: 0.5117 - val_accuracy: 0.8788\n",
      "Epoch 9/15\n",
      "28/28 [==============================] - 14s 511ms/step - loss: 0.0454 - accuracy: 0.9877 - val_loss: 0.3171 - val_accuracy: 0.8889\n",
      "Epoch 10/15\n",
      "28/28 [==============================] - 15s 528ms/step - loss: 0.0493 - accuracy: 0.9854 - val_loss: 0.3424 - val_accuracy: 0.9091\n",
      "Epoch 11/15\n",
      "28/28 [==============================] - 14s 497ms/step - loss: 0.0336 - accuracy: 0.9944 - val_loss: 0.3869 - val_accuracy: 0.8788\n",
      "Epoch 12/15\n",
      "28/28 [==============================] - 15s 523ms/step - loss: 0.0177 - accuracy: 0.9944 - val_loss: 0.2896 - val_accuracy: 0.9091\n",
      "Epoch 13/15\n",
      "28/28 [==============================] - 13s 476ms/step - loss: 0.0393 - accuracy: 0.9944 - val_loss: 0.3212 - val_accuracy: 0.9192\n",
      "Epoch 14/15\n",
      "28/28 [==============================] - 14s 485ms/step - loss: 0.0026 - accuracy: 1.0000 - val_loss: 0.3249 - val_accuracy: 0.9091\n",
      "Epoch 15/15\n",
      "28/28 [==============================] - 14s 499ms/step - loss: 0.0141 - accuracy: 0.9978 - val_loss: 0.3204 - val_accuracy: 0.8990\n"
     ]
    },
    {
     "data": {
      "text/plain": [
       "<keras.callbacks.History at 0x13a0c61ca00>"
      ]
     },
     "execution_count": 142,
     "metadata": {},
     "output_type": "execute_result"
    }
   ],
   "source": [
    "model.fit(x_train,y_train,epochs=15,validation_data=(x_valid,y_valid))"
   ]
  },
  {
   "cell_type": "markdown",
   "id": "0e4e8416",
   "metadata": {},
   "source": [
    "Ortalama Değerlerin Gösterilmesi\n"
   ]
  },
  {
   "cell_type": "code",
   "execution_count": null,
   "id": "d042f8be",
   "metadata": {},
   "outputs": [],
   "source": [
    "accuracy yerine f1score, kesinlik(precision) , duyarlılık(sensivity) ve özgüllük(specificity)"
   ]
  },
  {
   "cell_type": "code",
   "execution_count": null,
   "id": "5085cbea",
   "metadata": {},
   "outputs": [],
   "source": [
    "print((\"Ortalama Eğitim Kaybı: \",np.mean(model.history.history[\"loss\"])))\n",
    "print((\"Ortalama Eğitim Başarımı: \",np.mean(model.history.history[\"accuracy\"])))\n",
    "print((\"Ortalama Doğrulama Kaybı: \",np.mean(model.history.history[\"val_loss\"])))\n",
    "print((\"Ortalama Doğrulama Başarımı: \",np.mean(model.history.history[\"val_accuracy\"])))"
   ]
  },
  {
   "cell_type": "markdown",
   "id": "2f341900",
   "metadata": {},
   "source": [
    "Değerlerin grafik üzerinde gösterilmesi\n",
    "\n"
   ]
  },
  {
   "cell_type": "code",
   "execution_count": null,
   "id": "15705617",
   "metadata": {},
   "outputs": [],
   "source": [
    "import matplotlib.pyplot as plt\n",
    "fig,(ax1,ax2)=plt.subplots(2,1,figsize=(15,15))\n",
    "ax1.plot(model.history.history['loss'],color='g',label=\"Eğitim Kaybı\")\n",
    "ax1.plot(model.history.history['val_loss'],color='y',label=\"Doğrulama kaybı\")\n",
    "ax1.set_xticks(np.arange(15,75,15))\n",
    "ax2.plot(model.history.history['accuracy'],color='b',label=\"Eğitim Başarımı\")\n",
    "ax2.plot(model.history.history['val_accuracy'],color='r',label=\"Doğrulama Başarımı\")\n",
    "ax2.set_xticks(np.arange(15,75,15))\n",
    "plt.legend()\n",
    "plt.show()"
   ]
  }
 ],
 "metadata": {
  "kernelspec": {
   "display_name": "Python 3 (ipykernel)",
   "language": "python",
   "name": "python3"
  },
  "language_info": {
   "codemirror_mode": {
    "name": "ipython",
    "version": 3
   },
   "file_extension": ".py",
   "mimetype": "text/x-python",
   "name": "python",
   "nbconvert_exporter": "python",
   "pygments_lexer": "ipython3",
   "version": "3.9.12"
  }
 },
 "nbformat": 4,
 "nbformat_minor": 5
}

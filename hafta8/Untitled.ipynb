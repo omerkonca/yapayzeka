{
 "cells": [
  {
   "cell_type": "markdown",
   "id": "b9a5b98e",
   "metadata": {},
   "source": [
    "Yaprak Sınıflandırması\n",
    "Gerekli Kütüphanelerin Eklenmesi"
   ]
  },
  {
   "cell_type": "code",
   "execution_count": 177,
   "id": "fd9c13d7",
   "metadata": {},
   "outputs": [],
   "source": [
    "import pandas as pd\n",
    "import numpy as np\n",
    "from sklearn.preprocessing import LabelEncoder"
   ]
  },
  {
   "cell_type": "markdown",
   "id": "d18bc955",
   "metadata": {},
   "source": [
    "\n",
    "Test ve Eğitim Verilerinin Okunması\n"
   ]
  },
  {
   "cell_type": "code",
   "execution_count": 178,
   "id": "7f75d55f",
   "metadata": {},
   "outputs": [],
   "source": [
    "train=pd.read_csv(\"C:/Users/omerk/Documents/GitHub/yapayzeka/hafta8/yaprakveriseti/train.csv\")\n",
    "test=pd.read_csv(\"C:/Users/omerk/Documents/GitHub/yapayzeka/hafta8/yaprakveriseti/test.csv\")"
   ]
  },
  {
   "cell_type": "markdown",
   "id": "177c9ceb",
   "metadata": {},
   "source": [
    "Sınıfların Belirlenmesi ve Etiketlenmesi\n"
   ]
  },
  {
   "cell_type": "code",
   "execution_count": 179,
   "id": "f54ca1e7",
   "metadata": {},
   "outputs": [],
   "source": [
    "label_encoder=LabelEncoder().fit(train.species)\n",
    "labels=label_encoder.transform(train.species)\n",
    "classes =list(label_encoder.classes_)"
   ]
  },
  {
   "cell_type": "markdown",
   "id": "49d8167a",
   "metadata": {},
   "source": [
    "Verilerin Hazırlanması , Özellik ve Sınıf Sayısının Belirlenmesi "
   ]
  },
  {
   "cell_type": "code",
   "execution_count": 180,
   "id": "fd0f4e85",
   "metadata": {},
   "outputs": [],
   "source": [
    "train=train.drop([\"id\",\"species\"],axis=1)\n",
    "test=test.drop([\"id\"],axis=1)\n",
    "nb_features=192\n",
    "nb_classes=len(classes)"
   ]
  },
  {
   "cell_type": "markdown",
   "id": "aad5e1d3",
   "metadata": {},
   "source": [
    "Eğitim Verilerinin Standartlaştırılması"
   ]
  },
  {
   "cell_type": "code",
   "execution_count": 181,
   "id": "f3c79169",
   "metadata": {},
   "outputs": [],
   "source": [
    "from sklearn.preprocessing import StandardScaler\n",
    "scaler=StandardScaler().fit(train.values)\n",
    "train=scaler.transform(train.values)"
   ]
  },
  {
   "cell_type": "markdown",
   "id": "530ec9f4",
   "metadata": {},
   "source": [
    "Eğitim Verisinin Eğitim ve Doğrulama İçin Ayarlanması"
   ]
  },
  {
   "cell_type": "code",
   "execution_count": 182,
   "id": "61f08330",
   "metadata": {},
   "outputs": [],
   "source": [
    "from sklearn.model_selection import train_test_split\n",
    "x_train , x_valid , y_train , y_valid = train_test_split(train, labels ,test_size=0.1)"
   ]
  },
  {
   "cell_type": "markdown",
   "id": "3aa722a7",
   "metadata": {},
   "source": [
    "Etiketlerin kategorileştirilmesi\n"
   ]
  },
  {
   "cell_type": "code",
   "execution_count": 183,
   "id": "9bf94286",
   "metadata": {},
   "outputs": [],
   "source": [
    "from tensorflow.keras.utils import to_categorical\n",
    "y_train=to_categorical(y_train)\n",
    "y_valid=to_categorical(y_valid)\n",
    "\n",
    "x_train=np.array(x_train).reshape(891,192,1)\n",
    "x_valid=np.array(x_valid).reshape(99,192,1)"
   ]
  },
  {
   "cell_type": "markdown",
   "id": "870a7f54",
   "metadata": {},
   "source": [
    "Modelin oluşturulması \n"
   ]
  },
  {
   "cell_type": "code",
   "execution_count": 184,
   "id": "561236d7",
   "metadata": {},
   "outputs": [
    {
     "name": "stdout",
     "output_type": "stream",
     "text": [
      "Model: \"sequential_6\"\n",
      "_________________________________________________________________\n",
      " Layer (type)                Output Shape              Param #   \n",
      "=================================================================\n",
      " conv1d_12 (Conv1D)          (None, 192, 512)          1024      \n",
      "                                                                 \n",
      " activation_12 (Activation)  (None, 192, 512)          0         \n",
      "                                                                 \n",
      " max_pooling1d_12 (MaxPoolin  (None, 96, 512)          0         \n",
      " g1D)                                                            \n",
      "                                                                 \n",
      " conv1d_13 (Conv1D)          (None, 96, 256)           131328    \n",
      "                                                                 \n",
      " activation_13 (Activation)  (None, 96, 256)           0         \n",
      "                                                                 \n",
      " max_pooling1d_13 (MaxPoolin  (None, 48, 256)          0         \n",
      " g1D)                                                            \n",
      "                                                                 \n",
      " dropout_6 (Dropout)         (None, 48, 256)           0         \n",
      "                                                                 \n",
      " flatten_6 (Flatten)         (None, 12288)             0         \n",
      "                                                                 \n",
      " dense_18 (Dense)            (None, 2048)              25167872  \n",
      "                                                                 \n",
      " dense_19 (Dense)            (None, 1024)              2098176   \n",
      "                                                                 \n",
      " dense_20 (Dense)            (None, 99)                101475    \n",
      "                                                                 \n",
      "=================================================================\n",
      "Total params: 27,499,875\n",
      "Trainable params: 27,499,875\n",
      "Non-trainable params: 0\n",
      "_________________________________________________________________\n"
     ]
    }
   ],
   "source": [
    "from tensorflow.keras.models import Sequential\n",
    "from tensorflow.keras.layers import Dense,Activation,Conv1D,Dropout,MaxPooling1D,Flatten\n",
    "\n",
    "model=Sequential()\n",
    "model.add(Conv1D(512,1,input_shape=(nb_features,1)))\n",
    "model.add(Activation(\"relu\"))\n",
    "model.add(MaxPooling1D(2))\n",
    "model.add(Conv1D(256,1))\n",
    "model.add(Activation(\"relu\"))\n",
    "model.add(MaxPooling1D(2))\n",
    "model.add(Dropout(0.25))\n",
    "model.add(Flatten())\n",
    "model.add(Dense(2048,activation=\"relu\"))\n",
    "model.add(Dense(1024,activation=\"relu\"))\n",
    "model.add(Dense(nb_classes,activation=\"softmax\"))\n",
    "model.summary()"
   ]
  },
  {
   "cell_type": "markdown",
   "id": "e64ce8c7",
   "metadata": {},
   "source": [
    "Ağın Derlenmesi"
   ]
  },
  {
   "cell_type": "code",
   "execution_count": 185,
   "id": "b3fabb71",
   "metadata": {},
   "outputs": [],
   "source": [
    "model.compile(loss=\"categorical_crossentropy\",optimizer=\"adam\",metrics=[\"accuracy\"])"
   ]
  },
  {
   "cell_type": "markdown",
   "id": "1b601d39",
   "metadata": {},
   "source": [
    "Modelin Eğitilmesi\n"
   ]
  },
  {
   "cell_type": "code",
   "execution_count": 186,
   "id": "6221e225",
   "metadata": {},
   "outputs": [
    {
     "name": "stdout",
     "output_type": "stream",
     "text": [
      "Epoch 1/5\n",
      "28/28 [==============================] - 38s 875ms/step - loss: 3.7721 - accuracy: 0.1796 - val_loss: 1.6866 - val_accuracy: 0.5354\n",
      "Epoch 2/5\n",
      "28/28 [==============================] - 13s 474ms/step - loss: 0.8915 - accuracy: 0.7666 - val_loss: 0.5746 - val_accuracy: 0.8586\n",
      "Epoch 3/5\n",
      "28/28 [==============================] - 13s 453ms/step - loss: 0.4338 - accuracy: 0.8866 - val_loss: 0.7208 - val_accuracy: 0.8687\n",
      "Epoch 4/5\n",
      "28/28 [==============================] - 20s 708ms/step - loss: 0.2051 - accuracy: 0.9439 - val_loss: 0.4478 - val_accuracy: 0.8889\n",
      "Epoch 5/5\n",
      "28/28 [==============================] - 22s 768ms/step - loss: 0.2110 - accuracy: 0.9416 - val_loss: 0.6004 - val_accuracy: 0.8485\n"
     ]
    },
    {
     "data": {
      "text/plain": [
       "<keras.callbacks.History at 0x13a4beb4a30>"
      ]
     },
     "execution_count": 186,
     "metadata": {},
     "output_type": "execute_result"
    }
   ],
   "source": [
    "model.fit(x_train,y_train,epochs=5,validation_data=(x_valid,y_valid))"
   ]
  },
  {
   "cell_type": "markdown",
   "id": "07f1544b",
   "metadata": {},
   "source": [
    "Ortalama Değerlerin Gösterilmesi\n"
   ]
  },
  {
   "cell_type": "code",
   "execution_count": 187,
   "id": "ac08d8c0",
   "metadata": {},
   "outputs": [],
   "source": [
    "#accuracy yerine f1score, kesinlik(precision) , duyarlılık(sensivity) ve özgüllük(specificity)"
   ]
  },
  {
   "cell_type": "code",
   "execution_count": null,
   "id": "51a151a3",
   "metadata": {},
   "outputs": [],
   "source": []
  },
  {
   "cell_type": "code",
   "execution_count": 188,
   "id": "084f3507",
   "metadata": {},
   "outputs": [
    {
     "name": "stdout",
     "output_type": "stream",
     "text": [
      "('Ortalama Eğitim Kaybı: ', 1.1026899099349976)\n",
      "('Ortalama Eğitim Başarımı: ', 0.7436588108539581)\n",
      "('Ortalama Doğrulama Kaybı: ', 0.8060331583023072)\n",
      "('Ortalama Doğrulama Başarımı: ', 0.8)\n"
     ]
    }
   ],
   "source": [
    "print((\"Ortalama Eğitim Kaybı: \",np.mean(model.history.history[\"loss\"])))\n",
    "print((\"Ortalama Eğitim Başarımı: \",np.mean(model.history.history[\"accuracy\"])))\n",
    "print((\"Ortalama Doğrulama Kaybı: \",np.mean(model.history.history[\"val_loss\"])))\n",
    "print((\"Ortalama Doğrulama Başarımı: \",np.mean(model.history.history[\"val_accuracy\"])))"
   ]
  },
  {
   "cell_type": "markdown",
   "id": "86279155",
   "metadata": {},
   "source": [
    "Değerlerin grafik üzerinde gösterilmesi\n",
    "\n"
   ]
  },
  {
   "cell_type": "code",
   "execution_count": 189,
   "id": "60503740",
   "metadata": {},
   "outputs": [
    {
     "data": {
      "image/png": "[encoded data removed]",
      "text/plain": [
       "<Figure size 1080x1080 with 2 Axes>"
      ]
     },
     "metadata": {
      "needs_background": "light"
     },
     "output_type": "display_data"
    }
   ],
   "source": [
    "import matplotlib.pyplot as plt\n",
    "fig,(ax1,ax2)=plt.subplots(2,1,figsize=(15,15))\n",
    "ax1.plot(model.history.history['loss'],color='g',label=\"Eğitim Kaybı\")\n",
    "ax1.plot(model.history.history['val_loss'],color='y',label=\"Doğrulama kaybı\")\n",
    "ax1.set_xticks(np.arange(15,75,15))\n",
    "ax2.plot(model.history.history['accuracy'],color='b',label=\"Eğitim Başarımı\")\n",
    "ax2.plot(model.history.history['val_accuracy'],color='r',label=\"Doğrulama Başarımı\")\n",
    "ax2.set_xticks(np.arange(15,75,15))\n",
    "plt.legend()\n",
    "plt.show()"
   ]
  },
  {
   "cell_type": "code",
   "execution_count": null,
   "id": "831ca2dd",
   "metadata": {},
   "outputs": [],
   "source": []
  }
 ],
 "metadata": {
  "kernelspec": {
   "display_name": "Python 3 (ipykernel)",
   "language": "python",
   "name": "python3"
  },
  "language_info": {
   "codemirror_mode": {
    "name": "ipython",
    "version": 3
   },
   "file_extension": ".py",
   "mimetype": "text/x-python",
   "name": "python",
   "nbconvert_exporter": "python",
   "pygments_lexer": "ipython3",
   "version": "3.9.12"
  }
 },
 "nbformat": 4,
 "nbformat_minor": 5
}

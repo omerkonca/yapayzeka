{
 "cells": [
  {
   "cell_type": "markdown",
   "id": "7f754a6c",
   "metadata": {},
   "source": [
    "Yaprak Sınıflandırması\n",
    "Gerekli Kütüphanelerin Eklenmesi"
   ]
  },
  {
   "cell_type": "code",
   "execution_count": 64,
   "id": "fd9c13d7",
   "metadata": {},
   "outputs": [],
   "source": [
    "import pandas as pd\n",
    "import numpy as np\n",
    "from sklearn.preprocessing import LabelEncoder"
   ]
  },
  {
   "cell_type": "markdown",
   "id": "03b87f68",
   "metadata": {},
   "source": [
    "\n",
    "Test ve Eğitim Verilerinin Okunması\n"
   ]
  },
  {
   "cell_type": "code",
   "execution_count": 65,
   "id": "7f75d55f",
   "metadata": {},
   "outputs": [],
   "source": [
    "train=pd.read_csv(\"C:/Users/omerk/Documents/GitHub/yapayzeka/hafta8/yaprakveriseti/train.csv\")\n",
    "test=pd.read_csv(\"C:/Users/omerk/Documents/GitHub/yapayzeka/hafta8/yaprakveriseti/test.csv\")"
   ]
  },
  {
   "cell_type": "markdown",
   "id": "74150db3",
   "metadata": {},
   "source": [
    "Sınıfların Belirlenmesi ve Etiketlenmesi\n"
   ]
  },
  {
   "cell_type": "code",
   "execution_count": 66,
   "id": "7e2a64eb",
   "metadata": {},
   "outputs": [],
   "source": [
    "label_encoder=LabelEncoder().fit(train.species)\n",
    "labes=label_encoder.transform(train.species)\n",
    "classes =list(label_encoder.classes_)"
   ]
  },
  {
   "cell_type": "markdown",
   "id": "55b555ee",
   "metadata": {},
   "source": [
    "Verilerin Hazırlanması , Özellik ve Sınıf Sayısının Belirlenmesi "
   ]
  },
  {
   "cell_type": "code",
   "execution_count": 67,
   "id": "f2952ca5",
   "metadata": {},
   "outputs": [],
   "source": [
    "train=train.drop([\"id\",\"species\"],axis=1)\n",
    "test=test.drop([\"id\"],axis=1)\n",
    "nb_features=192\n",
    "nb_classes=len(classes)"
   ]
  },
  {
   "cell_type": "markdown",
   "id": "aaf55228",
   "metadata": {},
   "source": [
    "Eğitim Verilerinin Standartlaştırılması"
   ]
  },
  {
   "cell_type": "code",
   "execution_count": 68,
   "id": "d36a64a0",
   "metadata": {},
   "outputs": [],
   "source": [
    "from sklearn.preprocessing import StandardScaler\n",
    "scaler=StandardScaler().fit(train.values)\n",
    "train=scaler.transform(train.values)"
   ]
  },
  {
   "cell_type": "markdown",
   "id": "1e232f99",
   "metadata": {},
   "source": [
    "Eğitim Verisinin Eğitim ve Doğrulama İçin Ayarlanması"
   ]
  },
  {
   "cell_type": "code",
   "execution_count": 69,
   "id": "1ad002b3",
   "metadata": {},
   "outputs": [
    {
     "ename": "NameError",
     "evalue": "name 'labels' is not defined",
     "output_type": "error",
     "traceback": [
      "\u001b[1;31m---------------------------------------------------------------------------\u001b[0m",
      "\u001b[1;31mNameError\u001b[0m                                 Traceback (most recent call last)",
      "Input \u001b[1;32mIn [69]\u001b[0m, in \u001b[0;36m<cell line: 2>\u001b[1;34m()\u001b[0m\n\u001b[0;32m      1\u001b[0m \u001b[38;5;28;01mfrom\u001b[39;00m \u001b[38;5;21;01msklearn\u001b[39;00m\u001b[38;5;21;01m.\u001b[39;00m\u001b[38;5;21;01mmodel_selection\u001b[39;00m \u001b[38;5;28;01mimport\u001b[39;00m train_test_split\n\u001b[1;32m----> 2\u001b[0m x_train , x_valid , y_train , y_valid \u001b[38;5;241m=\u001b[39m train_test_split(train, \u001b[43mlabels\u001b[49m,test_size\u001b[38;5;241m=\u001b[39m\u001b[38;5;241m0.1\u001b[39m)\n",
      "\u001b[1;31mNameError\u001b[0m: name 'labels' is not defined"
     ]
    }
   ],
   "source": [
    "from sklearn.model_selection import train_test_split\n",
    "x_train , x_valid , y_train , y_valid = train_test_split(train, labels,test_size=0.1)"
   ]
  },
  {
   "cell_type": "markdown",
   "id": "a9680edc",
   "metadata": {},
   "source": [
    "Etiketlerin kategorileştirilmesi\n"
   ]
  },
  {
   "cell_type": "code",
   "execution_count": 57,
   "id": "82443571",
   "metadata": {},
   "outputs": [
    {
     "ename": "ModuleNotFoundError",
     "evalue": "No module named 'tensorflow'",
     "output_type": "error",
     "traceback": [
      "\u001b[1;31m---------------------------------------------------------------------------\u001b[0m",
      "\u001b[1;31mModuleNotFoundError\u001b[0m                       Traceback (most recent call last)",
      "Input \u001b[1;32mIn [57]\u001b[0m, in \u001b[0;36m<cell line: 1>\u001b[1;34m()\u001b[0m\n\u001b[1;32m----> 1\u001b[0m \u001b[38;5;28;01mfrom\u001b[39;00m \u001b[38;5;21;01mtensorflow\u001b[39;00m\u001b[38;5;21;01m.\u001b[39;00m\u001b[38;5;21;01mkeras\u001b[39;00m\u001b[38;5;21;01m.\u001b[39;00m\u001b[38;5;21;01mutils\u001b[39;00m \u001b[38;5;28;01mimport\u001b[39;00m to_categorical\n\u001b[0;32m      2\u001b[0m y_train\u001b[38;5;241m=\u001b[39mto_categorical(y_train)\n\u001b[0;32m      3\u001b[0m y_valid\u001b[38;5;241m=\u001b[39mto_categorical(y_valid)\n",
      "\u001b[1;31mModuleNotFoundError\u001b[0m: No module named 'tensorflow'"
     ]
    }
   ],
   "source": [
    "from tensorflow.keras.utils import to_categorical\n",
    "y_train=to_categorical(y_train)\n",
    "y_valid=to_categorical(y_valid)\n",
    "\n",
    "x_train=np.array(x_train).reshape(891,192,1)\n",
    "x_valid=np.array(x_train).reshape(99,192,1)"
   ]
  },
  {
   "cell_type": "code",
   "execution_count": null,
   "id": "739ecd0c",
   "metadata": {},
   "outputs": [],
   "source": []
  }
 ],
 "metadata": {
  "kernelspec": {
   "display_name": "Python 3 (ipykernel)",
   "language": "python",
   "name": "python3"
  },
  "language_info": {
   "codemirror_mode": {
    "name": "ipython",
    "version": 3
   },
   "file_extension": ".py",
   "mimetype": "text/x-python",
   "name": "python",
   "nbconvert_exporter": "python",
   "pygments_lexer": "ipython3",
   "version": "3.9.12"
  }
 },
 "nbformat": 4,
 "nbformat_minor": 5
}

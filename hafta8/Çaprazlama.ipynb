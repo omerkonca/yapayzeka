{
 "cells": [
  {
   "cell_type": "code",
   "execution_count": null,
   "id": "884d4368",
   "metadata": {},
   "outputs": [],
   "source": [
    "import pandas as pd\n",
    "import numpy as np\n",
    "from sklearn.preprocessing import LabelEncoder"
   ]
  },
  {
   "cell_type": "markdown",
   "id": "21b7447d",
   "metadata": {},
   "source": [
    "Test ve Eğitim Verilerinin Okunması"
   ]
  },
  {
   "cell_type": "code",
   "execution_count": null,
   "id": "61f1b4ee",
   "metadata": {},
   "outputs": [],
   "source": [
    "train=pd.read_csv(\"C:/Users/omerk/Documents/GitHub/yapayzeka/hafta8/yaprakveriseti/train.csv\")\n",
    "test=pd.read_csv(\"C:/Users/omerk/Documents/GitHub/yapayzeka/hafta8/yaprakveriseti/test.csv\")"
   ]
  },
  {
   "cell_type": "markdown",
   "id": "d04eaa5c",
   "metadata": {},
   "source": [
    "Sınıfların Belirlenmesi ve Etiketlenmesi"
   ]
  },
  {
   "cell_type": "code",
   "execution_count": null,
   "id": "168ee6ba",
   "metadata": {},
   "outputs": [],
   "source": [
    "label_encoder=LabelEncoder().fit(train.species)\n",
    "labels=label_encoder.transform(train.species)\n",
    "classes =list(label_encoder.classes_)"
   ]
  },
  {
   "cell_type": "markdown",
   "id": "ef5278da",
   "metadata": {},
   "source": [
    "Verilerin Hazırlanması , Özellik ve Sınıf Sayısının Belirlenmesi"
   ]
  },
  {
   "cell_type": "code",
   "execution_count": null,
   "id": "031174af",
   "metadata": {},
   "outputs": [],
   "source": [
    "train=train.drop([\"id\",\"species\"],axis=1)\n",
    "test=test.drop([\"id\"],axis=1)\n",
    "nb_features=192\n",
    "nb_classes=len(classes)"
   ]
  },
  {
   "cell_type": "markdown",
   "id": "81ea0e6c",
   "metadata": {},
   "source": [
    "Eğitim Verilerinin Standartlaştırılması"
   ]
  },
  {
   "cell_type": "code",
   "execution_count": null,
   "id": "aa03e5dd",
   "metadata": {},
   "outputs": [],
   "source": [
    "from sklearn.preprocessing import StandardScaler\n",
    "scaler=StandardScaler().fit(train.values)\n",
    "train=scaler.transform(train.values)"
   ]
  },
  {
   "cell_type": "markdown",
   "id": "710b16e8",
   "metadata": {},
   "source": [
    "Eğitim Verisinin Eğitim ve Doğrulama İçin Ayarlanması"
   ]
  },
  {
   "cell_type": "code",
   "execution_count": null,
   "id": "c1a2d2c2",
   "metadata": {},
   "outputs": [],
   "source": [
    "from sklearn.model_selection import train_test_split\n",
    "x_train , x_valid , y_train , y_valid = train_test_split(train, labels ,test_size=0.1)"
   ]
  },
  {
   "cell_type": "markdown",
   "id": "3a98a558",
   "metadata": {},
   "source": [
    "Etiketlerin kategorileştirilmesi"
   ]
  },
  {
   "cell_type": "code",
   "execution_count": null,
   "id": "b5a3d0bc",
   "metadata": {},
   "outputs": [],
   "source": [
    "from tensorflow.keras.utils import to_categorical\n",
    "y_train=to_categorical(y_train)\n",
    "y_valid=to_categorical(y_valid)\n",
    "\n",
    "x_train=np.array(x_train).reshape(891,192,1)\n",
    "x_valid=np.array(x_valid).reshape(99,192,1)"
   ]
  },
  {
   "cell_type": "markdown",
   "id": "2eecf348",
   "metadata": {},
   "source": [
    "Modelin oluşturulması"
   ]
  },
  {
   "cell_type": "code",
   "execution_count": null,
   "id": "8a670a0c",
   "metadata": {},
   "outputs": [],
   "source": [
    "from tensorflow.keras.models import Sequential\n",
    "from tensorflow.keras.layers import Dense,Activation,Conv1D,Dropout,MaxPooling1D,Flatten\n",
    "\n",
    "model=Sequential()\n",
    "model.add(Conv1D(512,1,input_shape=(nb_features,1)))\n",
    "model.add(Activation(\"relu\"))\n",
    "model.add(MaxPooling1D(2))\n",
    "model.add(Conv1D(256,1))\n",
    "model.add(Activation(\"relu\"))\n",
    "model.add(MaxPooling1D(2))\n",
    "model.add(Dropout(0.25))\n",
    "model.add(Flatten())\n",
    "model.add(Dense(2048,activation=\"relu\"))\n",
    "model.add(Dense(1024,activation=\"relu\"))\n",
    "model.add(Dense(nb_classes,activation=\"softmax\"))\n",
    "model.summary()"
   ]
  },
  {
   "cell_type": "markdown",
   "id": "08aa4812",
   "metadata": {},
   "source": [
    "Ağın Derlenmesi"
   ]
  },
  {
   "cell_type": "code",
   "execution_count": null,
   "id": "ce01f0c5",
   "metadata": {},
   "outputs": [],
   "source": [
    "model.compile(loss=\"categorical_crossentropy\",optimizer=\"adam\",metrics=[\"accuracy\"])"
   ]
  },
  {
   "cell_type": "markdown",
   "id": "19eb9242",
   "metadata": {},
   "source": [
    "Modelin Eğitilmesi"
   ]
  },
  {
   "cell_type": "code",
   "execution_count": null,
   "id": "10fa93f3",
   "metadata": {},
   "outputs": [],
   "source": [
    "model.fit(x_train,y_train,epochs=5,validation_data=(x_valid,y_valid))"
   ]
  },
  {
   "cell_type": "code",
   "execution_count": null,
   "id": "08688f92",
   "metadata": {},
   "outputs": [],
   "source": []
  }
 ],
 "metadata": {
  "kernelspec": {
   "display_name": "Python 3 (ipykernel)",
   "language": "python",
   "name": "python3"
  },
  "language_info": {
   "codemirror_mode": {
    "name": "ipython",
    "version": 3
   },
   "file_extension": ".py",
   "mimetype": "text/x-python",
   "name": "python",
   "nbconvert_exporter": "python",
   "pygments_lexer": "ipython3",
   "version": "3.9.12"
  }
 },
 "nbformat": 4,
 "nbformat_minor": 5
}

{
 "cells": [
  {
   "cell_type": "code",
   "execution_count": 53,
   "id": "884d4368",
   "metadata": {},
   "outputs": [],
   "source": [
    "import pandas as pd\n",
    "import numpy as np\n",
    "from sklearn.preprocessing import LabelEncoder"
   ]
  },
  {
   "cell_type": "markdown",
   "id": "21b7447d",
   "metadata": {},
   "source": [
    "Test ve Eğitim Verilerinin Okunması"
   ]
  },
  {
   "cell_type": "code",
   "execution_count": 54,
   "id": "61f1b4ee",
   "metadata": {},
   "outputs": [],
   "source": [
    "train=pd.read_csv(\"C:/Users/omerk/Documents/GitHub/yapayzeka/hafta8/yaprakveriseti/train.csv\")\n",
    "test=pd.read_csv(\"C:/Users/omerk/Documents/GitHub/yapayzeka/hafta8/yaprakveriseti/test.csv\")"
   ]
  },
  {
   "cell_type": "markdown",
   "id": "d04eaa5c",
   "metadata": {},
   "source": [
    "Sınıfların Belirlenmesi ve Etiketlenmesi"
   ]
  },
  {
   "cell_type": "code",
   "execution_count": 55,
   "id": "168ee6ba",
   "metadata": {},
   "outputs": [],
   "source": [
    "label_encoder=LabelEncoder().fit(train.species)\n",
    "labels=label_encoder.transform(train.species)\n",
    "classes =list(label_encoder.classes_)"
   ]
  },
  {
   "cell_type": "markdown",
   "id": "ef5278da",
   "metadata": {},
   "source": [
    "Verilerin Hazırlanması , Özellik ve Sınıf Sayısının Belirlenmesi"
   ]
  },
  {
   "cell_type": "code",
   "execution_count": 56,
   "id": "031174af",
   "metadata": {},
   "outputs": [],
   "source": [
    "train=train.drop([\"id\",\"species\"],axis=1)\n",
    "test=test.drop([\"id\"],axis=1)\n",
    "nb_features=192\n",
    "nb_classes=len(classes)"
   ]
  },
  {
   "cell_type": "markdown",
   "id": "81ea0e6c",
   "metadata": {},
   "source": [
    "Eğitim Verilerinin Standartlaştırılması"
   ]
  },
  {
   "cell_type": "code",
   "execution_count": 57,
   "id": "aa03e5dd",
   "metadata": {},
   "outputs": [],
   "source": [
    "from sklearn.preprocessing import StandardScaler\n",
    "scaler=StandardScaler().fit(train.values)\n",
    "train=scaler.transform(train.values)"
   ]
  },
  {
   "cell_type": "markdown",
   "id": "710b16e8",
   "metadata": {},
   "source": [
    "Eğitim Verisinin Eğitim ve Doğrulama İçin Ayarlanması"
   ]
  },
  {
   "cell_type": "code",
   "execution_count": 66,
   "id": "c1a2d2c2",
   "metadata": {},
   "outputs": [],
   "source": [
    "from sklearn.model_selection import train_test_split\n",
    "x_train , x_valid , y_train , y_valid = train_test_split(train, labels ,test_size=0.1)"
   ]
  },
  {
   "cell_type": "markdown",
   "id": "3a98a558",
   "metadata": {},
   "source": [
    "Etiketlerin kategorileştirilmesi"
   ]
  },
  {
   "cell_type": "code",
   "execution_count": 59,
   "id": "b5a3d0bc",
   "metadata": {},
   "outputs": [],
   "source": [
    "from tensorflow.keras.utils import to_categorical\n",
    "y_train=to_categorical(y_train)\n",
    "y_valid=to_categorical(y_valid)\n",
    "\n",
    "x_train=np.array(x_train).reshape(891,192,1)\n",
    "x_valid=np.array(x_valid).reshape(99,192,1)"
   ]
  },
  {
   "cell_type": "markdown",
   "id": "2eecf348",
   "metadata": {},
   "source": [
    "Modelin oluşturulması"
   ]
  },
  {
   "cell_type": "code",
   "execution_count": 60,
   "id": "8a670a0c",
   "metadata": {},
   "outputs": [
    {
     "name": "stdout",
     "output_type": "stream",
     "text": [
      "Model: \"sequential_4\"\n",
      "_________________________________________________________________\n",
      " Layer (type)                Output Shape              Param #   \n",
      "=================================================================\n",
      " conv1d_8 (Conv1D)           (None, 192, 512)          1024      \n",
      "                                                                 \n",
      " activation_8 (Activation)   (None, 192, 512)          0         \n",
      "                                                                 \n",
      " max_pooling1d_8 (MaxPooling  (None, 96, 512)          0         \n",
      " 1D)                                                             \n",
      "                                                                 \n",
      " conv1d_9 (Conv1D)           (None, 96, 256)           131328    \n",
      "                                                                 \n",
      " activation_9 (Activation)   (None, 96, 256)           0         \n",
      "                                                                 \n",
      " max_pooling1d_9 (MaxPooling  (None, 48, 256)          0         \n",
      " 1D)                                                             \n",
      "                                                                 \n",
      " dropout_4 (Dropout)         (None, 48, 256)           0         \n",
      "                                                                 \n",
      " flatten_4 (Flatten)         (None, 12288)             0         \n",
      "                                                                 \n",
      " dense_12 (Dense)            (None, 2048)              25167872  \n",
      "                                                                 \n",
      " dense_13 (Dense)            (None, 1024)              2098176   \n",
      "                                                                 \n",
      " dense_14 (Dense)            (None, 99)                101475    \n",
      "                                                                 \n",
      "=================================================================\n",
      "Total params: 27,499,875\n",
      "Trainable params: 27,499,875\n",
      "Non-trainable params: 0\n",
      "_________________________________________________________________\n"
     ]
    }
   ],
   "source": [
    "from tensorflow.keras.models import Sequential\n",
    "from tensorflow.keras.layers import Dense,Activation,Conv1D,Dropout,MaxPooling1D,Flatten\n",
    "\n",
    "model=Sequential()\n",
    "model.add(Conv1D(512,1,input_shape=(nb_features,1)))\n",
    "model.add(Activation(\"relu\"))\n",
    "model.add(MaxPooling1D(2))\n",
    "model.add(Conv1D(256,1))\n",
    "model.add(Activation(\"relu\"))\n",
    "model.add(MaxPooling1D(2))\n",
    "model.add(Dropout(0.25))\n",
    "model.add(Flatten())\n",
    "model.add(Dense(2048,activation=\"relu\"))\n",
    "model.add(Dense(1024,activation=\"relu\"))\n",
    "model.add(Dense(nb_classes,activation=\"softmax\"))\n",
    "model.summary()"
   ]
  },
  {
   "cell_type": "markdown",
   "id": "08aa4812",
   "metadata": {},
   "source": [
    "Ağın Derlenmesi"
   ]
  },
  {
   "cell_type": "code",
   "execution_count": 61,
   "id": "ce01f0c5",
   "metadata": {},
   "outputs": [],
   "source": [
    "model.compile(loss=\"categorical_crossentropy\",optimizer=\"adam\",metrics=[\"accuracy\"])"
   ]
  },
  {
   "cell_type": "markdown",
   "id": "19eb9242",
   "metadata": {},
   "source": [
    "Modelin Eğitilmesi"
   ]
  },
  {
   "cell_type": "code",
   "execution_count": 62,
   "id": "10fa93f3",
   "metadata": {},
   "outputs": [
    {
     "name": "stdout",
     "output_type": "stream",
     "text": [
      "Epoch 1/5\n",
      "28/28 [==============================] - 14s 487ms/step - loss: 3.9183 - accuracy: 0.1279 - val_loss: 1.8391 - val_accuracy: 0.5758\n",
      "Epoch 2/5\n",
      "28/28 [==============================] - 13s 458ms/step - loss: 1.0808 - accuracy: 0.7138 - val_loss: 0.6115 - val_accuracy: 0.8283\n",
      "Epoch 3/5\n",
      "28/28 [==============================] - 13s 461ms/step - loss: 0.4025 - accuracy: 0.8979 - val_loss: 0.5028 - val_accuracy: 0.8586\n",
      "Epoch 4/5\n",
      "28/28 [==============================] - 13s 468ms/step - loss: 0.2474 - accuracy: 0.9461 - val_loss: 0.5919 - val_accuracy: 0.8384\n",
      "Epoch 5/5\n",
      "28/28 [==============================] - 13s 463ms/step - loss: 0.1207 - accuracy: 0.9618 - val_loss: 0.5934 - val_accuracy: 0.8485\n"
     ]
    },
    {
     "data": {
      "text/plain": [
       "<keras.callbacks.History at 0x22ba3790af0>"
      ]
     },
     "execution_count": 62,
     "metadata": {},
     "output_type": "execute_result"
    }
   ],
   "source": [
    "model.fit(x_train,y_train,epochs=5,validation_data=(x_valid,y_valid))"
   ]
  },
  {
   "cell_type": "markdown",
   "id": "108d832c",
   "metadata": {},
   "source": [
    "Ortalama Değerlerin Gösterilmesi"
   ]
  },
  {
   "cell_type": "code",
   "execution_count": 63,
   "id": "cafcb615",
   "metadata": {},
   "outputs": [
    {
     "name": "stdout",
     "output_type": "stream",
     "text": [
      "('Ortalama Eğitim Kaybı: ', 1.1539389356970786)\n",
      "('Ortalama Eğitim Başarımı: ', 0.7295173972845077)\n",
      "('Ortalama Doğrulama Kaybı: ', 0.8277604937553406)\n",
      "('Ortalama Doğrulama Başarımı: ', 0.7898989915847778)\n"
     ]
    }
   ],
   "source": [
    "print((\"Ortalama Eğitim Kaybı: \",np.mean(model.history.history[\"loss\"])))\n",
    "print((\"Ortalama Eğitim Başarımı: \",np.mean(model.history.history[\"accuracy\"])))\n",
    "print((\"Ortalama Doğrulama Kaybı: \",np.mean(model.history.history[\"val_loss\"])))\n",
    "print((\"Ortalama Doğrulama Başarımı: \",np.mean(model.history.history[\"val_accuracy\"])))"
   ]
  },
  {
   "cell_type": "markdown",
   "id": "f617bf90",
   "metadata": {},
   "source": [
    "Değerlerin grafik üzerinde gösterilmesi"
   ]
  },
  {
   "cell_type": "code",
   "execution_count": 64,
   "id": "fcbb7517",
   "metadata": {},
   "outputs": [
    {
     "data": {
      "image/png": "[encoded data removed]",
      "text/plain": [
       "<Figure size 1080x1080 with 2 Axes>"
      ]
     },
     "metadata": {
      "needs_background": "light"
     },
     "output_type": "display_data"
    }
   ],
   "source": [
    "import matplotlib.pyplot as plt\n",
    "fig,(ax1,ax2)=plt.subplots(2,1,figsize=(15,15))\n",
    "ax1.plot(model.history.history['loss'],color='g',label=\"Eğitim Kaybı\")\n",
    "ax1.plot(model.history.history['val_loss'],color='y',label=\"Doğrulama kaybı\")\n",
    "ax1.set_xticks(np.arange(15,75,15))\n",
    "ax2.plot(model.history.history['accuracy'],color='b',label=\"Eğitim Başarımı\")\n",
    "ax2.plot(model.history.history['val_accuracy'],color='r',label=\"Doğrulama Başarımı\")\n",
    "ax2.set_xticks(np.arange(15,75,15))\n",
    "plt.legend()\n",
    "plt.show()"
   ]
  },
  {
   "cell_type": "code",
   "execution_count": 76,
   "id": "1ad17eec",
   "metadata": {},
   "outputs": [],
   "source": [
    "from sklearn.model_selection import KFold, cross_validate, cross_val_score\n",
    "import numpy as np"
   ]
  },
  {
   "cell_type": "code",
   "execution_count": 77,
   "id": "ee67fab8",
   "metadata": {},
   "outputs": [],
   "source": [
    "# create the range 1 to 25\n",
    "rn = range(1,26)"
   ]
  },
  {
   "cell_type": "code",
   "execution_count": 78,
   "id": "7b960919",
   "metadata": {},
   "outputs": [],
   "source": [
    "# to demonstrate how the data are split, we will create 3 and 5 folds. \n",
    "# KFold function has to be applied on the data and it returns an location (index) of the train and test samples.\n",
    "kf5 = KFold(n_splits=5, shuffle=False)\n",
    "kf3 = KFold(n_splits=3, shuffle=False)"
   ]
  },
  {
   "cell_type": "code",
   "execution_count": 79,
   "id": "9f435bab",
   "metadata": {},
   "outputs": [
    {
     "name": "stdout",
     "output_type": "stream",
     "text": [
      "[ 9 10 11 12 13 14 15 16 17 18 19 20 21 22 23 24] [0 1 2 3 4 5 6 7 8]\n",
      "[ 0  1  2  3  4  5  6  7  8 17 18 19 20 21 22 23 24] [ 9 10 11 12 13 14 15 16]\n",
      "[ 0  1  2  3  4  5  6  7  8  9 10 11 12 13 14 15 16] [17 18 19 20 21 22 23 24]\n"
     ]
    }
   ],
   "source": [
    "# the Kfold function retunrs the indices of the data. Our range goes from 1-25 so the index is 0-24\n",
    "for train_index, test_index in kf3.split(rn):\n",
    "    print(train_index, test_index)"
   ]
  },
  {
   "cell_type": "code",
   "execution_count": 80,
   "id": "34ad803d",
   "metadata": {},
   "outputs": [
    {
     "name": "stdout",
     "output_type": "stream",
     "text": [
      "[10 11 12 13 14 15 16 17 18 19 20 21 22 23 24 25] [1 2 3 4 5 6 7 8 9]\n",
      "[ 1  2  3  4  5  6  7  8  9 18 19 20 21 22 23 24 25] [10 11 12 13 14 15 16 17]\n",
      "[ 1  2  3  4  5  6  7  8  9 10 11 12 13 14 15 16 17] [18 19 20 21 22 23 24 25]\n"
     ]
    }
   ],
   "source": [
    "# to get the values from our data, we use np.take() to access a value at particular index\n",
    "for train_index, test_index in kf3.split(rn):\n",
    "    print(np.take(rn,train_index), np.take(rn,test_index))"
   ]
  },
  {
   "cell_type": "code",
   "execution_count": 81,
   "id": "ef581952",
   "metadata": {},
   "outputs": [],
   "source": [
    "def kfoldize(kf, rn, shift=.1):\n",
    "    train = pd.DataFrame()\n",
    "    test = pd.DataFrame()\n",
    "    i = 1\n",
    "    for train_index, test_index in kf.split(rn):\n",
    "        train_df = pd.DataFrame(np.take(rn, train_index), columns=[\"x\"])\n",
    "        train_df[\"val\"] = i - shift\n",
    "        train = train.append(train_df)\n",
    "\n",
    "        test_df = pd.DataFrame(np.take(rn, test_index), columns=[\"x\"])\n",
    "        test_df[\"val\"] = i + shift\n",
    "        test = test.append(test_df)\n",
    "        i += 1\n",
    "    return train, test"
   ]
  },
  {
   "cell_type": "code",
   "execution_count": 82,
   "id": "fc4c403f",
   "metadata": {},
   "outputs": [
    {
     "data": {
      "image/png": "[encoded data removed]",
      "text/plain": [
       "<Figure size 1080x360 with 2 Axes>"
      ]
     },
     "metadata": {
      "needs_background": "light"
     },
     "output_type": "display_data"
    }
   ],
   "source": [
    "train5, test5 = kfoldize(kf5,rn)\n",
    "train3, test3 = kfoldize(kf3,rn)\n",
    "\n",
    "fig,ax = plt.subplots(1,2, figsize=(15,5))\n",
    "ax[0].scatter(x=\"x\",y=\"val\",c=\"b\",label=\"train\",s=15,data=train5)\n",
    "ax[0].scatter(x=\"x\",y=\"val\",c=\"r\",label=\"test\",s=15,data=test5)\n",
    "ax[1].scatter(x=\"x\",y=\"val\",c=\"b\",label=\"train\",s=15,data=train3)\n",
    "ax[1].scatter(x=\"x\",y=\"val\",c=\"r\",label=\"test\",s=15,data=test3)\n",
    "ax[0].set_ylabel(\"Kfold\")\n",
    "ax[0].set_xlabel(\"feature\")\n",
    "ax[1].set_xlabel(\"feature\")\n",
    "ax[0].set_title(\"5 Folds\")\n",
    "ax[1].set_title(\"3 Folds\")\n",
    "plt.suptitle(\"Kfold split between train and test features\")\n",
    "plt.legend(bbox_to_anchor=(1.05, 1))\n",
    "plt.show()"
   ]
  },
  {
   "cell_type": "code",
   "execution_count": 83,
   "id": "db2f9190",
   "metadata": {},
   "outputs": [
    {
     "data": {
      "text/html": [
       "<div>\n",
       "<style scoped>\n",
       "    .dataframe tbody tr th:only-of-type {\n",
       "        vertical-align: middle;\n",
       "    }\n",
       "\n",
       "    .dataframe tbody tr th {\n",
       "        vertical-align: top;\n",
       "    }\n",
       "\n",
       "    .dataframe thead th {\n",
       "        text-align: right;\n",
       "    }\n",
       "</style>\n",
       "<table border=\"1\" class=\"dataframe\">\n",
       "  <thead>\n",
       "    <tr style=\"text-align: right;\">\n",
       "      <th></th>\n",
       "      <th>Train5</th>\n",
       "      <th>Test5</th>\n",
       "      <th>Train3</th>\n",
       "      <th>Test3</th>\n",
       "    </tr>\n",
       "  </thead>\n",
       "  <tbody>\n",
       "    <tr>\n",
       "      <th>Min value:</th>\n",
       "      <td>1</td>\n",
       "      <td>1</td>\n",
       "      <td>1</td>\n",
       "      <td>1</td>\n",
       "    </tr>\n",
       "    <tr>\n",
       "      <th>Max value:</th>\n",
       "      <td>25</td>\n",
       "      <td>25</td>\n",
       "      <td>25</td>\n",
       "      <td>25</td>\n",
       "    </tr>\n",
       "    <tr>\n",
       "      <th>Min occurance:</th>\n",
       "      <td>4</td>\n",
       "      <td>1</td>\n",
       "      <td>2</td>\n",
       "      <td>1</td>\n",
       "    </tr>\n",
       "    <tr>\n",
       "      <th>Max occurance:</th>\n",
       "      <td>4</td>\n",
       "      <td>1</td>\n",
       "      <td>2</td>\n",
       "      <td>1</td>\n",
       "    </tr>\n",
       "    <tr>\n",
       "      <th>Min lenght</th>\n",
       "      <td>20</td>\n",
       "      <td>5</td>\n",
       "      <td>16</td>\n",
       "      <td>8</td>\n",
       "    </tr>\n",
       "    <tr>\n",
       "      <th>Max lenght</th>\n",
       "      <td>20</td>\n",
       "      <td>5</td>\n",
       "      <td>17</td>\n",
       "      <td>9</td>\n",
       "    </tr>\n",
       "  </tbody>\n",
       "</table>\n",
       "</div>"
      ],
      "text/plain": [
       "                 Train5  Test5  Train3  Test3\n",
       "Min value:            1      1       1      1\n",
       "Max value:           25     25      25     25\n",
       "Min occurance:        4      1       2      1\n",
       "Max occurance:        4      1       2      1\n",
       "Min lenght           20      5      16      8\n",
       "Max lenght           20      5      17      9"
      ]
     },
     "execution_count": 83,
     "metadata": {},
     "output_type": "execute_result"
    }
   ],
   "source": [
    "# let's make sure how the values are distributes between the sets; Also we will create function so that we can repeat\n",
    "def kfold_stats(df, name):\n",
    "    s =  pd.Series({\"Min value: \": df[\"x\"].min(),\n",
    "              \"Max value: \": df[\"x\"].max(),\n",
    "              \"Min occurance: \": df[\"x\"].value_counts().min(),\n",
    "              \"Max occurance: \": df[\"x\"].value_counts().max(),\n",
    "               \"Min lenght\": df.groupby(\"val\").count().min().values[0],\n",
    "               \"Max lenght\": df.groupby(\"val\").count().max().values[0]})\n",
    "    s.name = name\n",
    "    return s\n",
    "pd.concat([kfold_stats(train5, \"Train5\"), kfold_stats(test5,\"Test5\"),\n",
    "          kfold_stats(train3, \"Train3\"), kfold_stats(test3,\"Test3\")], \n",
    "          axis=1)"
   ]
  },
  {
   "cell_type": "code",
   "execution_count": null,
   "id": "fed8d403",
   "metadata": {},
   "outputs": [],
   "source": []
  }
 ],
 "metadata": {
  "kernelspec": {
   "display_name": "Python 3 (ipykernel)",
   "language": "python",
   "name": "python3"
  },
  "language_info": {
   "codemirror_mode": {
    "name": "ipython",
    "version": 3
   },
   "file_extension": ".py",
   "mimetype": "text/x-python",
   "name": "python",
   "nbconvert_exporter": "python",
   "pygments_lexer": "ipython3",
   "version": "3.9.12"
  }
 },
 "nbformat": 4,
 "nbformat_minor": 5
}

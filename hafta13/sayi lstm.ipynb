{
 "cells": [
  {
   "cell_type": "code",
   "execution_count": 8,
   "id": "c762e31d",
   "metadata": {},
   "outputs": [],
   "source": [
    "import numpy as np\n",
    "import pandas as pd\n",
    "from sklearn.preprocessing import LabelEncoder"
   ]
  },
  {
   "cell_type": "code",
   "execution_count": 9,
   "id": "29e070a5",
   "metadata": {},
   "outputs": [
    {
     "name": "stdout",
     "output_type": "stream",
     "text": [
      "(42000, 785)\n"
     ]
    }
   ],
   "source": [
    "egitimVeri=pd.read_csv(\"C:/Users/omerk/Documents/GitHub/yapayzeka/hafta13/sayiveriseti/train.csv\")\n",
    "testVeri=pd.read_csv(\"C:/Users/omerk/Documents/GitHub/yapayzeka/hafta13/sayiveriseti/test.csv\")\n",
    "print(egitimVeri.shape)"
   ]
  },
  {
   "cell_type": "code",
   "execution_count": 10,
   "id": "2e8316f6",
   "metadata": {},
   "outputs": [
    {
     "ename": "NameError",
     "evalue": "name 'label_encoder' is not defined",
     "output_type": "error",
     "traceback": [
      "\u001b[1;31m---------------------------------------------------------------------------\u001b[0m",
      "\u001b[1;31mNameError\u001b[0m                                 Traceback (most recent call last)",
      "Input \u001b[1;32mIn [10]\u001b[0m, in \u001b[0;36m<cell line: 2>\u001b[1;34m()\u001b[0m\n\u001b[0;32m      1\u001b[0m abel_encoder\u001b[38;5;241m=\u001b[39mLabelEncoder()\u001b[38;5;241m.\u001b[39mfit(egitimVeri\u001b[38;5;241m.\u001b[39mlabel)\n\u001b[1;32m----> 2\u001b[0m labels\u001b[38;5;241m=\u001b[39m\u001b[43mlabel_encoder\u001b[49m\u001b[38;5;241m.\u001b[39mtransform(egitimVeri\u001b[38;5;241m.\u001b[39mlabel)\n\u001b[0;32m      3\u001b[0m classes\u001b[38;5;241m=\u001b[39m\u001b[38;5;28mlist\u001b[39m(label_encoder\u001b[38;5;241m.\u001b[39mclasses_)\n",
      "\u001b[1;31mNameError\u001b[0m: name 'label_encoder' is not defined"
     ]
    }
   ],
   "source": [
    "abel_encoder=LabelEncoder().fit(egitimVeri.label)\n",
    "labels=label_encoder.transform(egitimVeri.label)\n",
    "classes=list(label_encoder.classes_)"
   ]
  },
  {
   "cell_type": "code",
   "execution_count": null,
   "id": "0578851a",
   "metadata": {},
   "outputs": [],
   "source": []
  }
 ],
 "metadata": {
  "kernelspec": {
   "display_name": "Python 3 (ipykernel)",
   "language": "python",
   "name": "python3"
  },
  "language_info": {
   "codemirror_mode": {
    "name": "ipython",
    "version": 3
   },
   "file_extension": ".py",
   "mimetype": "text/x-python",
   "name": "python",
   "nbconvert_exporter": "python",
   "pygments_lexer": "ipython3",
   "version": "3.9.12"
  }
 },
 "nbformat": 4,
 "nbformat_minor": 5
}

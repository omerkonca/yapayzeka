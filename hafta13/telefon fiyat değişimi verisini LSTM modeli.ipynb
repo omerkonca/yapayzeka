{
 "cells": [
  {
   "cell_type": "code",
   "execution_count": 1,
   "id": "c7632382",
   "metadata": {},
   "outputs": [],
   "source": [
    "import numpy as np\n",
    "import pandas as pd\n",
    "from sklearn.preprocessing import LabelEncoder"
   ]
  },
  {
   "cell_type": "code",
   "execution_count": null,
   "id": "b48f4d5b",
   "metadata": {},
   "outputs": [],
   "source": [
    "egitimVeri=pd.read_csv(\"C:/Users/omerk/Documents/GitHub/yapayzeka/hafta13/train.csv\")\n",
    "testVeri=pd.read_csv(\"C:/Users/omerk/Documents/GitHub/yapayzeka/hafta13/test.csv\")"
   ]
  }
 ],
 "metadata": {
  "kernelspec": {
   "display_name": "Python 3 (ipykernel)",
   "language": "python",
   "name": "python3"
  },
  "language_info": {
   "codemirror_mode": {
    "name": "ipython",
    "version": 3
   },
   "file_extension": ".py",
   "mimetype": "text/x-python",
   "name": "python",
   "nbconvert_exporter": "python",
   "pygments_lexer": "ipython3",
   "version": "3.9.12"
  }
 },
 "nbformat": 4,
 "nbformat_minor": 5
}

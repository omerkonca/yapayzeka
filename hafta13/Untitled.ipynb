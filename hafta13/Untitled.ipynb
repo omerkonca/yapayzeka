{
 "cells": [
  {
   "cell_type": "code",
   "execution_count": 1,
   "id": "3e7b34b4",
   "metadata": {},
   "outputs": [],
   "source": [
    "import numpy as np\n",
    "import pandas as pd\n",
    "from sklearn.preprocessing import LabelEncoder"
   ]
  },
  {
   "cell_type": "code",
   "execution_count": 2,
   "id": "6e19f236",
   "metadata": {},
   "outputs": [],
   "source": [
    "egitimVeri=pd.read_csv(\"C:/Users/omerk/Documents/GitHub/yapayzeka/hafta13/train.csv\")\n",
    "testVeri=pd.read_csv(\"C:/Users/omerk/Documents/GitHub/yapayzeka/hafta13/test.csv\")"
   ]
  },
  {
   "cell_type": "code",
   "execution_count": 3,
   "id": "3ccecb08",
   "metadata": {},
   "outputs": [],
   "source": [
    "label_encoder=LabelEncoder().fit(egitimVeri.species)\n",
    "labels=label_encoder.transform(egitimVeri.species)\n",
    "classes=list(label_encoder.classes_)"
   ]
  },
  {
   "cell_type": "code",
   "execution_count": 4,
   "id": "fb7a8700",
   "metadata": {},
   "outputs": [],
   "source": [
    "#Eğitim ve test verileri gereksiz bilgilerden arındırılır \n",
    "egitimVeri = egitimVeri.drop([\"id\",\"species\"],axis=1) \n",
    "testveri = testVeri.drop([\"id\"],axis=1) \n",
    "nb_features = 192 \n",
    "nb_classes = len(classes)"
   ]
  },
  {
   "cell_type": "code",
   "execution_count": 8,
   "id": "9305200b",
   "metadata": {},
   "outputs": [],
   "source": [
    " #Verilerin standartlaştırılması \n",
    "from sklearn.preprocessing import StandardScaler \n",
    "scaler = StandardScaler().fit(egitimVeri.values)\n",
    "eğitimVeri = scaler.transform(egitimVeri.values) \n",
    "#Eğitim ve doğrulama verilerinin belirlenmesi \n",
    "from sklearn.model_selection import train_test_split \n",
    "X_train, X_valid, y_train, y_valid = train_test_split(eğitimVeri, labels, test_size = 0.2) "
   ]
  },
  {
   "cell_type": "code",
   "execution_count": 10,
   "id": "4f397c86",
   "metadata": {},
   "outputs": [],
   "source": [
    "#Çıktı değerlerinin kategorileştirilmesi \n",
    "from tensorflow.keras.utils import to_categorical \n",
    "y_train=to_categorical(y_train) \n",
    "y_valid = to_categorical(y_valid)\n",
    "#Girdi verilerinin yeniden boyutlandırılması \n",
    "X_train = np.array(X_train).reshape(792,192,1) \n",
    "X_valid = np.array(X_valid).reshape(198,192,1)"
   ]
  },
  {
   "cell_type": "code",
   "execution_count": 11,
   "id": "b51f9a97",
   "metadata": {},
   "outputs": [
    {
     "name": "stdout",
     "output_type": "stream",
     "text": [
      "Model: \"sequential\"\n",
      "_________________________________________________________________\n",
      " Layer (type)                Output Shape              Param #   \n",
      "=================================================================\n",
      " lstm (LSTM)                 (None, 512)               1052672   \n",
      "                                                                 \n",
      " activation (Activation)     (None, 512)               0         \n",
      "                                                                 \n",
      " batch_normalization (BatchN  (None, 512)              2048      \n",
      " ormalization)                                                   \n",
      "                                                                 \n",
      " flatten (Flatten)           (None, 512)               0         \n",
      "                                                                 \n",
      " dropout (Dropout)           (None, 512)               0         \n",
      "                                                                 \n",
      " dense (Dense)               (None, 2048)              1050624   \n",
      "                                                                 \n",
      " dense_1 (Dense)             (None, 1024)              2098176   \n",
      "                                                                 \n",
      " dense_2 (Dense)             (None, 99)                101475    \n",
      "                                                                 \n",
      "=================================================================\n",
      "Total params: 4,304,995\n",
      "Trainable params: 4,303,971\n",
      "Non-trainable params: 1,024\n",
      "_________________________________________________________________\n"
     ]
    }
   ],
   "source": [
    " #Modelin oluşturulması \n",
    "from tensorflow.keras.models import Sequential \n",
    "from tensorflow.keras.layers import Dense, Activation, Dropout \n",
    "from tensorflow.keras.layers import Flatten, LSTM, BatchNormalization \n",
    "model = Sequential() \n",
    "model.add(LSTM(512, input_shape=(nb_features,1)))\n",
    "model.add(Activation(\"relu\"))\n",
    "model.add(BatchNormalization()) \n",
    "model.add((Flatten()))\n",
    "model.add(Dropout (0.15)) \n",
    "model.add(Dense(2048, activation=\"relu\"))\n",
    "model.add(Dense(1024, activation=\"relu\"))\n",
    "model.add(Dense (nb_classes, activation=\"softmax\")) \n",
    "model.summary() \n"
   ]
  },
  {
   "cell_type": "code",
   "execution_count": 14,
   "id": "f38356fe",
   "metadata": {},
   "outputs": [],
   "source": [
    "#Modelin kesinlik, fl-skor gibi değerlerin oluşturulması \n",
    "from keras import backend as K \n",
    "def recall_m(y_true, y_pred):\n",
    "    true_positives = K.sum(K.round(K.clip(y_true * y_pred, 0, 1))) \n",
    "    possible_positives = K.sum(K.round(K.clip(y_true, 0, 1))) \n",
    "    recall = true_positives / (possible_positives + K.epsilon()) \n",
    "    return recall\n",
    "def precision_m(y_true, y_pred): \n",
    "    true_positives = K.sum(K.round(K.clip(y_true * y_pred, 0, 1))) \n",
    "    predicted_positives = K.sum(K.round(K.clip(y_pred, 0, 1))) \n",
    "    precision = true_positives / (predicted_positives + K.epsilon()) \n",
    "    return precision\n",
    "def f1_m(y_true, y_pred): \n",
    "    precision = precision_m(y_true, y_pred) \n",
    "    recall =recall_m(y_true, y_pred) \n",
    "    return 2*((precision*recall)/(precision+recall+K.epsilon()))\n"
   ]
  },
  {
   "cell_type": "code",
   "execution_count": null,
   "id": "3a7c1401",
   "metadata": {},
   "outputs": [
    {
     "name": "stdout",
     "output_type": "stream",
     "text": [
      "Epoch 1/100\n",
      "25/25 [==============================] - 36s 1s/step - loss: 4.3140 - accuracy: 0.0391 - f1_m: 0.0000e+00 - precision_m: 0.0000e+00 - recall_m: 0.0000e+00 - val_loss: 4.5501 - val_accuracy: 0.0455 - val_f1_m: 0.0000e+00 - val_precision_m: 0.0000e+00 - val_recall_m: 0.0000e+00\n",
      "Epoch 2/100\n",
      "25/25 [==============================] - 32s 1s/step - loss: 3.4863 - accuracy: 0.1212 - f1_m: 0.0323 - precision_m: 0.1967 - recall_m: 0.0179 - val_loss: 4.4990 - val_accuracy: 0.0657 - val_f1_m: 0.0000e+00 - val_precision_m: 0.0000e+00 - val_recall_m: 0.0000e+00\n",
      "Epoch 3/100\n",
      "25/25 [==============================] - 31s 1s/step - loss: 3.1535 - accuracy: 0.1515 - f1_m: 0.0339 - precision_m: 0.2647 - recall_m: 0.0183 - val_loss: 4.4380 - val_accuracy: 0.0960 - val_f1_m: 0.0000e+00 - val_precision_m: 0.0000e+00 - val_recall_m: 0.0000e+00\n",
      "Epoch 4/100\n",
      "25/25 [==============================] - 32s 1s/step - loss: 2.8126 - accuracy: 0.2071 - f1_m: 0.0836 - precision_m: 0.4410 - recall_m: 0.0475 - val_loss: 4.3989 - val_accuracy: 0.1616 - val_f1_m: 0.0000e+00 - val_precision_m: 0.0000e+00 - val_recall_m: 0.0000e+00\n",
      "Epoch 5/100\n",
      "25/25 [==============================] - 32s 1s/step - loss: 2.4748 - accuracy: 0.3030 - f1_m: 0.1570 - precision_m: 0.5408 - recall_m: 0.0925 - val_loss: 4.3510 - val_accuracy: 0.1970 - val_f1_m: 0.0000e+00 - val_precision_m: 0.0000e+00 - val_recall_m: 0.0000e+00\n",
      "Epoch 6/100\n",
      "25/25 [==============================] - 32s 1s/step - loss: 2.2001 - accuracy: 0.3611 - f1_m: 0.2607 - precision_m: 0.5963 - recall_m: 0.1713 - val_loss: 4.2543 - val_accuracy: 0.1919 - val_f1_m: 0.0000e+00 - val_precision_m: 0.0000e+00 - val_recall_m: 0.0000e+00\n",
      "Epoch 7/100\n",
      "25/25 [==============================] - 31s 1s/step - loss: 1.9674 - accuracy: 0.4028 - f1_m: 0.3216 - precision_m: 0.6504 - recall_m: 0.2167 - val_loss: 4.2071 - val_accuracy: 0.2626 - val_f1_m: 0.0000e+00 - val_precision_m: 0.0000e+00 - val_recall_m: 0.0000e+00\n",
      "Epoch 8/100\n",
      "25/25 [==============================] - 31s 1s/step - loss: 1.8301 - accuracy: 0.4407 - f1_m: 0.3632 - precision_m: 0.6389 - recall_m: 0.2575 - val_loss: 4.1293 - val_accuracy: 0.2273 - val_f1_m: 0.0000e+00 - val_precision_m: 0.0000e+00 - val_recall_m: 0.0000e+00\n",
      "Epoch 9/100\n",
      "25/25 [==============================] - 32s 1s/step - loss: 1.6185 - accuracy: 0.4975 - f1_m: 0.4444 - precision_m: 0.6891 - recall_m: 0.3317 - val_loss: 3.9494 - val_accuracy: 0.2778 - val_f1_m: 0.0000e+00 - val_precision_m: 0.0000e+00 - val_recall_m: 0.0000e+00\n",
      "Epoch 10/100\n",
      "25/25 [==============================] - 31s 1s/step - loss: 1.5366 - accuracy: 0.5429 - f1_m: 0.4999 - precision_m: 0.6964 - recall_m: 0.3946 - val_loss: 4.0726 - val_accuracy: 0.2424 - val_f1_m: 0.0000e+00 - val_precision_m: 0.0000e+00 - val_recall_m: 0.0000e+00\n",
      "Epoch 11/100\n",
      "25/25 [==============================] - 31s 1s/step - loss: 1.6192 - accuracy: 0.4886 - f1_m: 0.4285 - precision_m: 0.6765 - recall_m: 0.3179 - val_loss: 3.7703 - val_accuracy: 0.3434 - val_f1_m: 0.0000e+00 - val_precision_m: 0.0000e+00 - val_recall_m: 0.0000e+00\n",
      "Epoch 12/100\n",
      "25/25 [==============================] - 32s 1s/step - loss: 1.2472 - accuracy: 0.5720 - f1_m: 0.5348 - precision_m: 0.7113 - recall_m: 0.4313 - val_loss: 3.4827 - val_accuracy: 0.3485 - val_f1_m: 0.0000e+00 - val_precision_m: 0.0000e+00 - val_recall_m: 0.0000e+00\n",
      "Epoch 13/100\n",
      "25/25 [==============================] - 32s 1s/step - loss: 1.1117 - accuracy: 0.6515 - f1_m: 0.6183 - precision_m: 0.7595 - recall_m: 0.5250 - val_loss: 3.2074 - val_accuracy: 0.4293 - val_f1_m: 0.0000e+00 - val_precision_m: 0.0000e+00 - val_recall_m: 0.0000e+00\n",
      "Epoch 14/100\n",
      "25/25 [==============================] - 31s 1s/step - loss: 1.0725 - accuracy: 0.6629 - f1_m: 0.6114 - precision_m: 0.7510 - recall_m: 0.5217 - val_loss: 3.0916 - val_accuracy: 0.4747 - val_f1_m: 0.0000e+00 - val_precision_m: 0.0000e+00 - val_recall_m: 0.0000e+00\n",
      "Epoch 15/100\n",
      "25/25 [==============================] - 31s 1s/step - loss: 1.0922 - accuracy: 0.6351 - f1_m: 0.6089 - precision_m: 0.7406 - recall_m: 0.5225 - val_loss: 3.0477 - val_accuracy: 0.3232 - val_f1_m: 0.0000e+00 - val_precision_m: 0.0000e+00 - val_recall_m: 0.0000e+00\n",
      "Epoch 16/100\n",
      "25/25 [==============================] - 31s 1s/step - loss: 1.0344 - accuracy: 0.6591 - f1_m: 0.6362 - precision_m: 0.7495 - recall_m: 0.5554 - val_loss: 2.7542 - val_accuracy: 0.3990 - val_f1_m: 0.0260 - val_precision_m: 0.4286 - val_recall_m: 0.0134\n",
      "Epoch 17/100\n",
      "25/25 [==============================] - 31s 1s/step - loss: 0.9203 - accuracy: 0.6881 - f1_m: 0.6769 - precision_m: 0.7841 - recall_m: 0.5983 - val_loss: 2.4367 - val_accuracy: 0.4495 - val_f1_m: 0.0922 - val_precision_m: 0.8571 - val_recall_m: 0.0491\n",
      "Epoch 18/100\n",
      "25/25 [==============================] - 31s 1s/step - loss: 0.7552 - accuracy: 0.7374 - f1_m: 0.7225 - precision_m: 0.8038 - recall_m: 0.6579 - val_loss: 2.2344 - val_accuracy: 0.4545 - val_f1_m: 0.1546 - val_precision_m: 0.7262 - val_recall_m: 0.0893\n",
      "Epoch 19/100\n",
      "25/25 [==============================] - 33s 1s/step - loss: 0.7199 - accuracy: 0.7449 - f1_m: 0.7364 - precision_m: 0.8044 - recall_m: 0.6812 - val_loss: 2.1823 - val_accuracy: 0.4343 - val_f1_m: 0.1991 - val_precision_m: 0.8138 - val_recall_m: 0.1176\n",
      "Epoch 20/100\n",
      "25/25 [==============================] - 34s 1s/step - loss: 0.6503 - accuracy: 0.7778 - f1_m: 0.7657 - precision_m: 0.8271 - recall_m: 0.7146 - val_loss: 2.1286 - val_accuracy: 0.4091 - val_f1_m: 0.2617 - val_precision_m: 0.6706 - val_recall_m: 0.1696\n",
      "Epoch 21/100\n",
      "25/25 [==============================] - 33s 1s/step - loss: 0.5959 - accuracy: 0.7879 - f1_m: 0.7708 - precision_m: 0.8319 - recall_m: 0.7204 - val_loss: 1.8905 - val_accuracy: 0.4848 - val_f1_m: 0.3605 - val_precision_m: 0.7262 - val_recall_m: 0.2470\n",
      "Epoch 22/100\n",
      "25/25 [==============================] - 31s 1s/step - loss: 0.6655 - accuracy: 0.7715 - f1_m: 0.7729 - precision_m: 0.8225 - recall_m: 0.7304 - val_loss: 2.1198 - val_accuracy: 0.4899 - val_f1_m: 0.3668 - val_precision_m: 0.7706 - val_recall_m: 0.2470\n",
      "Epoch 23/100\n",
      "25/25 [==============================] - 32s 1s/step - loss: 0.6117 - accuracy: 0.7955 - f1_m: 0.7883 - precision_m: 0.8543 - recall_m: 0.7337 - val_loss: 1.9853 - val_accuracy: 0.4495 - val_f1_m: 0.3838 - val_precision_m: 0.6360 - val_recall_m: 0.2783\n",
      "Epoch 24/100\n",
      "25/25 [==============================] - 31s 1s/step - loss: 0.4310 - accuracy: 0.8409 - f1_m: 0.8432 - precision_m: 0.8787 - recall_m: 0.8117 - val_loss: 2.1061 - val_accuracy: 0.4949 - val_f1_m: 0.4677 - val_precision_m: 0.6591 - val_recall_m: 0.3676\n",
      "Epoch 25/100\n",
      "25/25 [==============================] - 33s 1s/step - loss: 0.4902 - accuracy: 0.8346 - f1_m: 0.8361 - precision_m: 0.8634 - recall_m: 0.8112 - val_loss: 2.3916 - val_accuracy: 0.4596 - val_f1_m: 0.4298 - val_precision_m: 0.5327 - val_recall_m: 0.3631\n",
      "Epoch 26/100\n",
      "25/25 [==============================] - 33s 1s/step - loss: 0.6176 - accuracy: 0.7917 - f1_m: 0.7796 - precision_m: 0.8241 - recall_m: 0.7412 - val_loss: 2.0225 - val_accuracy: 0.5101 - val_f1_m: 0.4950 - val_precision_m: 0.6438 - val_recall_m: 0.4048\n",
      "Epoch 27/100\n",
      "25/25 [==============================] - 32s 1s/step - loss: 0.4511 - accuracy: 0.8447 - f1_m: 0.8407 - precision_m: 0.8748 - recall_m: 0.8100 - val_loss: 2.1871 - val_accuracy: 0.5253 - val_f1_m: 0.5470 - val_precision_m: 0.6207 - val_recall_m: 0.4926\n",
      "Epoch 28/100\n",
      "25/25 [==============================] - 32s 1s/step - loss: 0.3728 - accuracy: 0.8699 - f1_m: 0.8681 - precision_m: 0.8986 - recall_m: 0.8404 - val_loss: 2.3359 - val_accuracy: 0.4899 - val_f1_m: 0.4696 - val_precision_m: 0.5517 - val_recall_m: 0.4122\n",
      "Epoch 29/100\n",
      "25/25 [==============================] - 32s 1s/step - loss: 0.3755 - accuracy: 0.8687 - f1_m: 0.8705 - precision_m: 0.8916 - recall_m: 0.8508 - val_loss: 2.4673 - val_accuracy: 0.4949 - val_f1_m: 0.4986 - val_precision_m: 0.5941 - val_recall_m: 0.4315\n",
      "Epoch 30/100\n",
      "25/25 [==============================] - 33s 1s/step - loss: 0.3020 - accuracy: 0.9040 - f1_m: 0.9004 - precision_m: 0.9127 - recall_m: 0.8888 - val_loss: 2.4022 - val_accuracy: 0.5152 - val_f1_m: 0.5374 - val_precision_m: 0.5760 - val_recall_m: 0.5045\n",
      "Epoch 31/100\n"
     ]
    },
    {
     "name": "stdout",
     "output_type": "stream",
     "text": [
      "25/25 [==============================] - 45s 2s/step - loss: 0.2980 - accuracy: 0.8952 - f1_m: 0.8937 - precision_m: 0.9028 - recall_m: 0.8850 - val_loss: 2.6556 - val_accuracy: 0.5101 - val_f1_m: 0.5014 - val_precision_m: 0.5845 - val_recall_m: 0.4449\n",
      "Epoch 32/100\n",
      "25/25 [==============================] - 33s 1s/step - loss: 0.3883 - accuracy: 0.8838 - f1_m: 0.8822 - precision_m: 0.8947 - recall_m: 0.8704 - val_loss: 2.6884 - val_accuracy: 0.5758 - val_f1_m: 0.5749 - val_precision_m: 0.6272 - val_recall_m: 0.5312\n",
      "Epoch 33/100\n",
      "25/25 [==============================] - 32s 1s/step - loss: 0.3393 - accuracy: 0.8851 - f1_m: 0.8848 - precision_m: 0.9007 - recall_m: 0.8700 - val_loss: 2.8927 - val_accuracy: 0.4192 - val_f1_m: 0.4426 - val_precision_m: 0.4907 - val_recall_m: 0.4048\n",
      "Epoch 34/100\n",
      "25/25 [==============================] - 50s 2s/step - loss: 0.4770 - accuracy: 0.8598 - f1_m: 0.8575 - precision_m: 0.8803 - recall_m: 0.8367 - val_loss: 2.7863 - val_accuracy: 0.4596 - val_f1_m: 0.4741 - val_precision_m: 0.5232 - val_recall_m: 0.4360\n",
      "Epoch 35/100\n",
      "25/25 [==============================] - 38s 2s/step - loss: 0.3865 - accuracy: 0.8801 - f1_m: 0.8766 - precision_m: 0.8994 - recall_m: 0.8558 - val_loss: 2.6849 - val_accuracy: 0.5404 - val_f1_m: 0.5675 - val_precision_m: 0.6206 - val_recall_m: 0.5268\n",
      "Epoch 36/100\n",
      "25/25 [==============================] - 42s 2s/step - loss: 0.3756 - accuracy: 0.8687 - f1_m: 0.8619 - precision_m: 0.8814 - recall_m: 0.8438 - val_loss: 2.8465 - val_accuracy: 0.5051 - val_f1_m: 0.5130 - val_precision_m: 0.5574 - val_recall_m: 0.4762\n",
      "Epoch 37/100\n",
      "25/25 [==============================] - 50s 2s/step - loss: 0.2907 - accuracy: 0.8965 - f1_m: 0.8938 - precision_m: 0.9085 - recall_m: 0.8800 - val_loss: 3.0041 - val_accuracy: 0.5051 - val_f1_m: 0.5072 - val_precision_m: 0.5458 - val_recall_m: 0.4762\n",
      "Epoch 38/100\n",
      "25/25 [==============================] - 32s 1s/step - loss: 0.2825 - accuracy: 0.8977 - f1_m: 0.8981 - precision_m: 0.9171 - recall_m: 0.8804 - val_loss: 3.0688 - val_accuracy: 0.4949 - val_f1_m: 0.4664 - val_precision_m: 0.5040 - val_recall_m: 0.4345\n",
      "Epoch 39/100\n",
      "25/25 [==============================] - 33s 1s/step - loss: 0.2264 - accuracy: 0.9318 - f1_m: 0.9299 - precision_m: 0.9372 - recall_m: 0.9229 - val_loss: 3.4445 - val_accuracy: 0.5000 - val_f1_m: 0.4860 - val_precision_m: 0.5070 - val_recall_m: 0.4673\n",
      "Epoch 40/100\n",
      "25/25 [==============================] - 33s 1s/step - loss: 0.2105 - accuracy: 0.9280 - f1_m: 0.9250 - precision_m: 0.9340 - recall_m: 0.9167 - val_loss: 2.9429 - val_accuracy: 0.4949 - val_f1_m: 0.5009 - val_precision_m: 0.5433 - val_recall_m: 0.4673\n",
      "Epoch 41/100\n",
      "25/25 [==============================] - 33s 1s/step - loss: 0.3666 - accuracy: 0.8889 - f1_m: 0.8868 - precision_m: 0.8967 - recall_m: 0.8775 - val_loss: 3.4651 - val_accuracy: 0.4192 - val_f1_m: 0.4018 - val_precision_m: 0.4377 - val_recall_m: 0.3720\n",
      "Epoch 42/100\n",
      "25/25 [==============================] - 56s 2s/step - loss: 0.3339 - accuracy: 0.9015 - f1_m: 0.8913 - precision_m: 0.9071 - recall_m: 0.8767 - val_loss: 2.9596 - val_accuracy: 0.5152 - val_f1_m: 0.4822 - val_precision_m: 0.5103 - val_recall_m: 0.4583\n",
      "Epoch 43/100\n",
      "25/25 [==============================] - ETA: 0s - loss: 0.2046 - accuracy: 0.9343 - f1_m: 0.9342 - precision_m: 0.9435 - recall_m: 0.9254"
     ]
    }
   ],
   "source": [
    "#Modelin derlenmesi\n",
    "model.compile(loss=\"categorical_crossentropy\", optimizer = \"adam\", metrics=[\"accuracy\",f1_m,precision_m,recall_m]) \n",
    " #Modelin eğitilmesi \n",
    "score = model.fit(X_train, y_train, epochs = 100, validation_data=(X_valid,y_valid))\n"
   ]
  },
  {
   "cell_type": "code",
   "execution_count": null,
   "id": "593cd416",
   "metadata": {},
   "outputs": [],
   "source": []
  }
 ],
 "metadata": {
  "kernelspec": {
   "display_name": "Python 3 (ipykernel)",
   "language": "python",
   "name": "python3"
  },
  "language_info": {
   "codemirror_mode": {
    "name": "ipython",
    "version": 3
   },
   "file_extension": ".py",
   "mimetype": "text/x-python",
   "name": "python",
   "nbconvert_exporter": "python",
   "pygments_lexer": "ipython3",
   "version": "3.9.12"
  }
 },
 "nbformat": 4,
 "nbformat_minor": 5
}

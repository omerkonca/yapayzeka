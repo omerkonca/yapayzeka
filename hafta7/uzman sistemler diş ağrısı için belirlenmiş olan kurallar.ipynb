{
 "cells": [
  {
   "cell_type": "code",
   "execution_count": 13,
   "id": "547a13bd",
   "metadata": {},
   "outputs": [],
   "source": [
    "from random import choice\n",
    "from experta import *"
   ]
  },
  {
   "cell_type": "code",
   "execution_count": 14,
   "id": "240f46de",
   "metadata": {},
   "outputs": [],
   "source": [
    "class dis(Fact):\n",
    "    \"\"\"DİŞ FIRÇALAMA İLE İLGİLİ TEMEL KURALLAR\"\"\"\n",
    "    pass"
   ]
  },
  {
   "cell_type": "code",
   "execution_count": 15,
   "id": "0332511b",
   "metadata": {},
   "outputs": [],
   "source": [
    "class disfircalama(KnowledgeEngine):\n",
    "    @Rule(dis(firca=\"diş eti kanaması\"))\n",
    "    def dis_kanaması(self):\n",
    "        print(\"Eğer diş fırçalarken diş eti kanaması olursa, diş hastalığı vardır ve diş hekimine başvur.\")\n",
    "    @Rule(dis(firca=\"uzun süreli diş eti kanaması\"))\n",
    "    def uzun_sureli_dis_kanaması(self):\n",
    "        print(\"Eğer diş fırçalarken uzun süreli diş eti kanaması olursa, dişeti çekilmesi vardır ve diş hekimine başvur.\")\n",
    "    @Rule(dis(firca=\"diş eti çekilmesi\"))\n",
    "    def dis_eti_cekilmesi(self):\n",
    "        print(\"Eğer diş eti çekilmesi var ve diş kökü görünüyorsa, dolgu yaptır.\")\n",
    "    @Rule(dis(firca=\"diş eti renk değişimi\"))\n",
    "    def dis_eti_renk_degisimi(self):\n",
    "        print(\"Eğer dişte yiyecek ve içeceklerden oluşan renk değişimi varsa, dişleri temizle.\")\n",
    "    @Rule(dis(firca=\"diş eti morarması\"))\n",
    "    def dis_eti_morarma(self):\n",
    "        print(\"Eğer yeni diş çıkarken morarma görünüyorsa, diş hekimine başvur.\")\n",
    "    @Rule(dis(firca=\"dişte ağrı yapmayan çürük\"))\n",
    "    def agri_yapmayan_curuk(self):\n",
    "        print(\"Eğer dişte ağrı yapmayan çürük varsa, dolgu yaptır.\")\n",
    "    @Rule(dis(firca=\"ileri derece çürük\"))\n",
    "    def ileri_derece_curuk(self):\n",
    "        print(\"Eğer dişteki çürük ileri derecedeyse, kanal tedavisi ve dolgu yaptır.\")"
   ]
  },
  {
   "cell_type": "code",
   "execution_count": 16,
   "id": "6d2f557a",
   "metadata": {},
   "outputs": [
    {
     "name": "stdout",
     "output_type": "stream",
     "text": [
      "Eğer dişte ağrı yapmayan çürük varsa, dolgu yaptır.\n"
     ]
    }
   ],
   "source": [
    "uzman=disfircalama()\n",
    "uzman.reset()\n",
    "uzman.declare(dis(firca=choice([\"diş eti kanaması\",\"uzun süreli diş eti kanaması\",\"diş eti çekilmesi\",\"diş eti renk değişimi\",\"diş eti morarması\",\"dişte ağrı yapmayan çürük\",\"ileri derece çürük\"])))\n",
    "uzman.run()"
   ]
  },
  {
   "cell_type": "code",
   "execution_count": null,
   "id": "9c65190a",
   "metadata": {},
   "outputs": [],
   "source": []
  }
 ],
 "metadata": {
  "kernelspec": {
   "display_name": "Python 3 (ipykernel)",
   "language": "python",
   "name": "python3"
  },
  "language_info": {
   "codemirror_mode": {
    "name": "ipython",
    "version": 3
   },
   "file_extension": ".py",
   "mimetype": "text/x-python",
   "name": "python",
   "nbconvert_exporter": "python",
   "pygments_lexer": "ipython3",
   "version": "3.9.12"
  }
 },
 "nbformat": 4,
 "nbformat_minor": 5
}

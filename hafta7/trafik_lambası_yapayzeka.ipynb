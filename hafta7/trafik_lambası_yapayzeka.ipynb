{
 "cells": [
  {
   "cell_type": "code",
   "execution_count": 7,
   "id": "5078faa1",
   "metadata": {},
   "outputs": [],
   "source": [
    "from random import choice\n",
    "from experta import *"
   ]
  },
  {
   "cell_type": "code",
   "execution_count": 8,
   "id": "9e82e436",
   "metadata": {},
   "outputs": [],
   "source": [
    "class Işık(Fact):\n",
    "    \"\"\"trafik ışıkları ile ilgili temel bilgiler\"\"\"\n",
    "    pass"
   ]
  },
  {
   "cell_type": "code",
   "execution_count": 9,
   "id": "8b66f20a",
   "metadata": {},
   "outputs": [],
   "source": [
    "class karşıdankarşıyageçme(KnowledgeEngine):\n",
    "    @Rule(Işık(renk=\"yeşil\"))\n",
    "    def yesil_ışık(self):\n",
    "        print(\"yeşil ışık yandığı için yürüyebilirsin\")\n",
    "    @Rule(Işık(renk=\"kırmızı\"))\n",
    "    def kirmizi_ışık(self):\n",
    "        print(\"kırmızı ışık yandığı için dur\")  \n",
    "    @Rule(Işık(renk=\"sarı\"))\n",
    "    def sari_ışık(self):\n",
    "        print(\"sarı ışık yandığı için hazırlan\")    "
   ]
  },
  {
   "cell_type": "code",
   "execution_count": 10,
   "id": "13bca678",
   "metadata": {},
   "outputs": [
    {
     "name": "stdout",
     "output_type": "stream",
     "text": [
      "kırmızı ışık yandığı için dur\n"
     ]
    }
   ],
   "source": [
    "uzman=karşıdankarşıyageçme()\n",
    "uzman.reset()\n",
    "uzman.declare(Işık(renk=choice([\"yeşil\",\"sarı\",\"kırmızı\"])))\n",
    "uzman.run()"
   ]
  },
  {
   "cell_type": "markdown",
   "id": "7f5510a7",
   "metadata": {},
   "source": []
  }
 ],
 "metadata": {
  "kernelspec": {
   "display_name": "Python 3 (ipykernel)",
   "language": "python",
   "name": "python3"
  },
  "language_info": {
   "codemirror_mode": {
    "name": "ipython",
    "version": 3
   },
   "file_extension": ".py",
   "mimetype": "text/x-python",
   "name": "python",
   "nbconvert_exporter": "python",
   "pygments_lexer": "ipython3",
   "version": "3.9.13"
  }
 },
 "nbformat": 4,
 "nbformat_minor": 5
}

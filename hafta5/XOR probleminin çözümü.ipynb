{
 "cells": [
  {
   "cell_type": "code",
   "execution_count": 29,
   "id": "48e754bc",
   "metadata": {},
   "outputs": [],
   "source": [
    "import numpy as np \n",
    "import matplotlib.pyplot as plt"
   ]
  },
  {
   "cell_type": "code",
   "execution_count": 30,
   "id": "a0180b76",
   "metadata": {},
   "outputs": [],
   "source": [
    "x=np.array([[0,0,1,1],[0,1,0,1]])   # Giriş değerleri\n",
    "y=np.array([[0,1,1,0]])             # Gerçek çıkış değerleri\n",
    "m = x.shape[1]\n",
    "lr = 0.1                            # Learning rate\n",
    "np.random.seed(2)                   # Başlangıç için random ağırlık değerleri\n",
    "w1 = np.random.rand(2,2)            # 1. derece hidden layer ağırlıklarının bulunduğu matris\n",
    "w2 = np.random.rand(1,2)            # 2. derece hidden layer ağırlıklarının bulunduğu matris\n",
    "lossliste = []                      # kayıp listesi\n",
    "tekrar = 100000                     # iterasyon sayısı"
   ]
  },
  {
   "cell_type": "code",
   "execution_count": 31,
   "id": "7caa0d25",
   "metadata": {},
   "outputs": [],
   "source": [
    "# Sigmoid Fonksiyon\n",
    "def sigmoid(z):\n",
    "     z= 1/(1+np.exp(-z))\n",
    "     return z"
   ]
  },
  {
   "cell_type": "code",
   "execution_count": 32,
   "id": "b71c4c80",
   "metadata": {},
   "outputs": [],
   "source": [
    "# Eğitim\n",
    "def egtm(w1,w2,x):\n",
    "    z1 = np.dot(w1,x)\n",
    "    a1 = sigmoid(z1)\n",
    "    z2 = np.dot(w2,a1)\n",
    "    a2 = sigmoid(z2)\n",
    "    return z1,a1,z2,a2"
   ]
  },
  {
   "cell_type": "code",
   "execution_count": 33,
   "id": "01585f4b",
   "metadata": {},
   "outputs": [],
   "source": [
    "# Backpropagation\n",
    "def backpropagation(m,w1,w2,z1,a1,z2,a2,y):\n",
    "    dz2 = a2-y\n",
    "    dw2 = np.dot(dz2,a1.T)/m\n",
    "    dz1 = np.dot(w2.T,dz2) * a1*(1-a1)\n",
    "    dw1 = np.dot(dz1,x.T)/m\n",
    "    return dw2,dw1\n",
    "   "
   ]
  },
  {
   "cell_type": "code",
   "execution_count": 34,
   "id": "2be9437b",
   "metadata": {},
   "outputs": [],
   "source": [
    "for i in range(tekrar):\n",
    "    z1,a1,z2,a2 = egtm(w1,w2,x)\n",
    "    loss = -(1/m)*np.sum(y*np.log(a2)+(1-y)*np.log(1-a2))\n",
    "    lossliste.append(loss)\n",
    "    dw2,dw1 = backpropagation(m,w1,w2,z1,a1,z2,a2,y)\n",
    "    w2 = w2-lr*dw2\n",
    "    w1 = w1-lr*dw1"
   ]
  },
  {
   "cell_type": "code",
   "execution_count": 35,
   "id": "d54f8418",
   "metadata": {},
   "outputs": [
    {
     "name": "stdout",
     "output_type": "stream",
     "text": [
      "x1= [1]  x2= [0]  : y= [0.97024149]\n",
      "x1= [0]  x2= [0]  : y= [0.00994801]\n",
      "x1= [0]  x2= [1]  : y= [0.97024152]\n",
      "x1= [1]  x2= [1]  : y= [0.05002123]\n"
     ]
    }
   ],
   "source": [
    "def testfonk(w1,w2,giris):\n",
    "     z1,a1,z2,a2 = egtm(w1,w2,test)\n",
    "     print(\"x1=\",test[0],\" x2=\",test[1],\" : y=\",a2[0])   \n",
    "     \n",
    "test = np.array([[1],[0]])\n",
    "testfonk(w1,w2,test)\n",
    "test = np.array([[0],[0]])\n",
    "testfonk(w1,w2,test)\n",
    "test = np.array([[0],[1]])\n",
    "testfonk(w1,w2,test)\n",
    "test = np.array([[1],[1]])\n",
    "testfonk(w1,w2,test)"
   ]
  },
  {
   "cell_type": "code",
   "execution_count": null,
   "id": "e421aa2b",
   "metadata": {},
   "outputs": [],
   "source": []
  },
  {
   "cell_type": "code",
   "execution_count": null,
   "id": "9f8cda6b",
   "metadata": {},
   "outputs": [],
   "source": []
  }
 ],
 "metadata": {
  "kernelspec": {
   "display_name": "Python 3 (ipykernel)",
   "language": "python",
   "name": "python3"
  },
  "language_info": {
   "codemirror_mode": {
    "name": "ipython",
    "version": 3
   },
   "file_extension": ".py",
   "mimetype": "text/x-python",
   "name": "python",
   "nbconvert_exporter": "python",
   "pygments_lexer": "ipython3",
   "version": "3.10.4"
  }
 },
 "nbformat": 4,
 "nbformat_minor": 5
}

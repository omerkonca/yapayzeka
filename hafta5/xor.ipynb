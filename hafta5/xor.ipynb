{
 "cells": [
  {
   "cell_type": "code",
   "execution_count": 5,
   "id": "1dc07e0b",
   "metadata": {},
   "outputs": [],
   "source": [
    "import numpy as np\n",
    "import matplotlib.pyplot as plt"
   ]
  },
  {
   "cell_type": "code",
   "execution_count": 6,
   "id": "e2d92050",
   "metadata": {},
   "outputs": [],
   "source": [
    "def sigmoid(gamma):\n",
    "    return 1/(1 + np.exp(-1*gamma))\n",
    "\n",
    "def costfunc(h, y, theta, lam, s1, s2, s3):\n",
    "    m= h.shape[0]\n",
    "    t1size = s2*(s1+1)\n",
    "    t2size = s3*(s2+1)\n",
    "    theta1 = theta[0:t1size].reshape(s2, s1+1)\n",
    "    theta2 = theta[t1size:].reshape(s3, s2+1)\n",
    "    theta1reg = theta1[:, 1:]\n",
    "    theta2reg = theta2[:, 1:]\n",
    "    \n",
    "    J = -(sum(np.multiply(y, np.log(h))) + sum(np.multiply(1-y, np.log(1-h))) )/m + lam*(sum(theta1reg**2) + sum(theta2reg**2))/(2*m)\n",
    "    return J[0]\n",
    "\n",
    "def XORGradDesc(X, y, alpha = 5, niter = 10000):\n",
    "    \n",
    "    JHist = np.zeros(shape = (1, niter)).squeeze()\n",
    "    m = X.shape[0]\n",
    "    X = np.insert(X, 0, values = 1, axis = 1)\n",
    "    s1 = X.shape[1]-1\n",
    "    s2 = 2\n",
    "    s3 = 1\n",
    "    \n",
    "    #Random intitialisation of theta\n",
    "    epsilon = 0.00001\n",
    "    theta1 = np.random.uniform(size = (s2,s1+1))\n",
    "    theta2 = np.random.uniform(size = (s3,s2+1))    \n",
    "    \n",
    "    #Unrolling theta\n",
    "    t1 = theta1.reshape(-1,1)\n",
    "    t2 = theta2.reshape(-1,1)\n",
    "    theta = np.row_stack((t1, t2)).squeeze()\n",
    "    \n",
    "    \n",
    "    #Gradient Descent\n",
    "    \n",
    "    for i in range(0, niter):\n",
    "    \n",
    "        #Forward Propagation\n",
    "        a2 = sigmoid(np.dot(X, theta1.transpose()))\n",
    "        a2bias = np.insert(a2, 0, values = 1, axis = 1)\n",
    "\n",
    "        a3 = sigmoid(np.dot(a2bias, theta2.transpose()))\n",
    "        h = a3\n",
    "\n",
    "        lam = 0.00001*m/alpha\n",
    "\n",
    "        #Cost Function\n",
    "        JHist[i] = costfunc(h, y, theta, lam, s1, s2, s3)\n",
    "\n",
    "\n",
    "        #Backpropagation\n",
    "        delta3 = h-y\n",
    "        delta2 = (delta3*theta2)[:, 1:]\n",
    "        delta2 = np.multiply(delta2, a2)\n",
    "        delta2 = np.multiply(delta2, 1-a2)\n",
    "\n",
    "        Delta1 = np.dot(delta2.transpose(), X)\n",
    "        Delta2 = np.dot(delta3.transpose(), a2bias)\n",
    "        \n",
    "        \n",
    "        #Calculating gradient\n",
    "        regt1 = np.insert(theta1[:, 1:], 0, values = 0, axis = 1)\n",
    "        regt2 = np.insert(theta2[:, 1:], 0, values = 0, axis = 1)\n",
    "        D1 = (Delta1 + (lam*regt1))/m\n",
    "        D2 = (Delta2 + (lam*regt2))/m\n",
    "        \n",
    "        d1 = D1.reshape(-1, 1)\n",
    "        d2 = D2.reshape(-1, 1)\n",
    "        grad = np.concatenate((d1,d2)).squeeze()\n",
    "\n",
    "        #Updating theta via Gradient Descent\n",
    "        theta = theta - alpha*grad\n",
    "        theta1 = theta[0:s2*(s1+1)].reshape(s2, s1+1)\n",
    "        theta2 = theta[s2*(s1+1):].reshape(s3, s2+1)\n",
    "        \n",
    "    return (theta, JHist)"
   ]
  },
  {
   "cell_type": "code",
   "execution_count": 9,
   "id": "e61e8024",
   "metadata": {},
   "outputs": [
    {
     "name": "stdout",
     "output_type": "stream",
     "text": [
      "[ -4.21513722  -7.92193914   7.79981836   4.03131674  -7.78427753\n",
      "   7.98544093  -8.4111088  -17.5133547   17.17899149]\n"
     ]
    },
    {
     "data": {
      "image/png": "[encoded data removed]",
      "text/plain": [
       "<Figure size 640x480 with 1 Axes>"
      ]
     },
     "metadata": {},
     "output_type": "display_data"
    }
   ],
   "source": [
    "X = np.array([0,0,0,1,1,0,1,1]).reshape(4,2)\n",
    "Y = np.array([1,0,0,1]).reshape(4,1)\n",
    "(theta, JHist) = XORGradDesc(X, Y, 5, 10000)\n",
    "plt.plot([i for i in range(0,10000)], JHist)\n",
    "print(theta)"
   ]
  },
  {
   "cell_type": "code",
   "execution_count": null,
   "id": "994267ad",
   "metadata": {},
   "outputs": [],
   "source": []
  },
  {
   "cell_type": "code",
   "execution_count": null,
   "id": "1bff65e1",
   "metadata": {},
   "outputs": [],
   "source": []
  }
 ],
 "metadata": {
  "kernelspec": {
   "display_name": "Python 3 (ipykernel)",
   "language": "python",
   "name": "python3"
  },
  "language_info": {
   "codemirror_mode": {
    "name": "ipython",
    "version": 3
   },
   "file_extension": ".py",
   "mimetype": "text/x-python",
   "name": "python",
   "nbconvert_exporter": "python",
   "pygments_lexer": "ipython3",
   "version": "3.10.4"
  }
 },
 "nbformat": 4,
 "nbformat_minor": 5
}

{
 "cells": [
  {
   "cell_type": "code",
   "execution_count": 1,
   "id": "50ebe25c",
   "metadata": {},
   "outputs": [
    {
     "name": "stdout",
     "output_type": "stream",
     "text": [
      "uzayalının rengini giriniz: yeşil\n",
      "tebrikler, yeşil uzaylıyı vurduğunuz için 5 puan kazandınız\n"
     ]
    }
   ],
   "source": [
    "#İçinde uzaylı olan bir oyun geliştirdiğinizi düşünün. uzaylı_rengi isminde bir değişken oluşturun\n",
    "#ve bu değişken string türünde değerler alsın. Bu değişkene kırmızı, yeşil ya da sarı\n",
    "#değerlerinden birini klavyeden veriniz. Eğer uzaylının rengi yeşilse “Tebrikler, yeşil uzaylıya ateş\n",
    "#ettiğiniz için 5 puan kazandınız” şeklinde bir çıktı veriniz. Eğer rengi yeşil değilse \"Tebrikler, yeşil\n",
    "#olmayan uzaylıya ateş ettiğiniz için 10 puan kazandınız\" şeklinde çıktı veriniz. Senaryoya ait programı yazınız \n",
    "\n",
    "uzayli_rengi=input(\"uzayalının rengini giriniz: \")\n",
    "if uzayli_rengi== \"yeşil\" or uzayli_rengi==\"kırmızı\" or uzayli_rengi==\"sarı\":\n",
    "    if uzayli_rengi==\"yeşil\":\n",
    "        print(\"tebrikler, yeşil uzaylıyı vurduğunuz için 5 puan kazandınız\")\n",
    "    else:\n",
    "        print(\"tebrikler, yeşil olmayan uzaylıya vurduğunuz için 10 puan kazandınız\")\n",
    "else:\n",
    "    print(\"geçersiz renk girdiniz\")"
   ]
  },
  {
   "cell_type": "code",
   "execution_count": null,
   "id": "3461920a",
   "metadata": {},
   "outputs": [],
   "source": []
  }
 ],
 "metadata": {
  "kernelspec": {
   "display_name": "Python 3 (ipykernel)",
   "language": "python",
   "name": "python3"
  },
  "language_info": {
   "codemirror_mode": {
    "name": "ipython",
    "version": 3
   },
   "file_extension": ".py",
   "mimetype": "text/x-python",
   "name": "python",
   "nbconvert_exporter": "python",
   "pygments_lexer": "ipython3",
   "version": "3.10.4"
  }
 },
 "nbformat": 4,
 "nbformat_minor": 5
}

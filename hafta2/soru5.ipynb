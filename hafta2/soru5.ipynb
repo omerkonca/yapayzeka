{
 "cells": [
  {
   "cell_type": "code",
   "execution_count": 13,
   "id": "8a9b593e",
   "metadata": {},
   "outputs": [],
   "source": [
    "#Favori meyvelerinizin olduğu bir liste oluşturunuz ve bu listede 5 adet meyveniz bulunsun.\n",
    "#Listenin adı favori_meyveler şeklinde tanımlansın. if-else yapısını kullanarak örnekte verilen\n",
    "#meyvelerin favori listenizde olup olmadığını kontrol ediniz. Örnek meyveler; elma, armut,\n",
    "#karpuz, kavun, muz, portakal, çilek, vişne, kiraz ve mandalina."
   ]
  },
  {
   "cell_type": "code",
   "execution_count": 38,
   "id": "6d600772",
   "metadata": {},
   "outputs": [
    {
     "name": "stdout",
     "output_type": "stream",
     "text": [
      "favori listesinde elma yok\n",
      "favori listesinde armut yok\n",
      "favori listesinde karpuz var\n",
      "favori listesinde çilek var\n",
      "favori listesinde kiraz yok\n"
     ]
    }
   ],
   "source": [
    "favori_meyveler = [\"Karpuz\",\"Çilek\",\"kavun\",\"Ananas\",\"Muz\"]\n",
    "if \"elma\" in favori_meyveler:\n",
    "    print(\"favori listesinde elma var\")\n",
    "else:\n",
    "    print(\"favori listesinde elma yok\")\n",
    "if \"armut\" in favori_meyveler:\n",
    "    print(\"favori listesinde armut var\")\n",
    "else:\n",
    "    print(\"favori listesinde armut yok\")\n",
    "if \"Karpuz\" in favori_meyveler:\n",
    "    print(\"favori listesinde karpuz var\")\n",
    "else:\n",
    "    print(\"favori listesinde karpuz yok\")\n",
    "if \"Çilek\" in favori_meyveler:\n",
    "    print(\"favori listesinde çilek var\")\n",
    "else:\n",
    "    print(\"favori listesinde çilek yok\")\n",
    "if \"kiraz\" in favori_meyveler:\n",
    "    print(\"favori listesinde kiraz var\")\n",
    "else:\n",
    "    print(\"favori listesinde kiraz yok\")\n",
    "    \n",
    "    "
   ]
  },
  {
   "cell_type": "code",
   "execution_count": null,
   "id": "56e4fa51",
   "metadata": {},
   "outputs": [],
   "source": []
  }
 ],
 "metadata": {
  "kernelspec": {
   "display_name": "Python 3 (ipykernel)",
   "language": "python",
   "name": "python3"
  },
  "language_info": {
   "codemirror_mode": {
    "name": "ipython",
    "version": 3
   },
   "file_extension": ".py",
   "mimetype": "text/x-python",
   "name": "python",
   "nbconvert_exporter": "python",
   "pygments_lexer": "ipython3",
   "version": "3.10.4"
  }
 },
 "nbformat": 4,
 "nbformat_minor": 5
}

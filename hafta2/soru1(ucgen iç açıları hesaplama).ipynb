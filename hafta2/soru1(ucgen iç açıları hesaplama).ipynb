{
 "cells": [
  {
   "cell_type": "code",
   "execution_count": 5,
   "id": "fe8dbb7c",
   "metadata": {},
   "outputs": [
    {
     "name": "stdout",
     "output_type": "stream",
     "text": [
      "Lütfen 1. açının değerini giriniz: 90\n",
      "Lütfen 2. açının değerini giriniz: 70\n",
      "Lütfen 3. açının değerini giriniz: 20\n",
      "dik açılı üçgen\n"
     ]
    }
   ],
   "source": [
    "deger1=int(input(\"Lütfen 1. açının değerini giriniz: \"))\n",
    "deger2=int(input(\"Lütfen 2. açının değerini giriniz: \"))\n",
    "deger3=int(input(\"Lütfen 3. açının değerini giriniz: \"))\n",
    "icacitoplami=deger1+deger2+deger3\n",
    "if icacitoplami!=180:\n",
    "    print(\"böyle bir üçgen bulunmamaktadır\")\n",
    "elif deger1>90 or deger2>90 or deger3>90:\n",
    "    print(\"geniş açılı üçgen\")\n",
    "elif deger1==90 or deger2==90 or deger3==90:\n",
    "    print(\"dik açılı üçgen\")   \n",
    "elif deger1==60 or deger2==60 or deger3==60:\n",
    "    print(\"dar açılı ve eşkenar üçgen\")\n",
    "else:\n",
    "    print(\"dar açili üçgen\")"
   ]
  },
  {
   "cell_type": "code",
   "execution_count": null,
   "id": "800d1b84",
   "metadata": {},
   "outputs": [],
   "source": []
  }
 ],
 "metadata": {
  "kernelspec": {
   "display_name": "Python 3 (ipykernel)",
   "language": "python",
   "name": "python3"
  },
  "language_info": {
   "codemirror_mode": {
    "name": "ipython",
    "version": 3
   },
   "file_extension": ".py",
   "mimetype": "text/x-python",
   "name": "python",
   "nbconvert_exporter": "python",
   "pygments_lexer": "ipython3",
   "version": "3.10.4"
  }
 },
 "nbformat": 4,
 "nbformat_minor": 5
}

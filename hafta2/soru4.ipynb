{
 "cells": [
  {
   "cell_type": "code",
   "execution_count": 11,
   "id": "845b6c5e",
   "metadata": {},
   "outputs": [
    {
     "name": "stdout",
     "output_type": "stream",
     "text": [
      "Bir yaş giriniz: 20\n",
      "Bu kişi yetişkindir\n"
     ]
    }
   ],
   "source": [
    "#if-elif-else yapılarını kullanarak bir insanın yaşam evreleri ile ilgili programı oluşturunuz. int\n",
    "#türünde, yaş isminde bir değişken oluşturup, bu değişken için gerekli olan değeri kullanıcıdan isteyiniz\n",
    "#a) Eğer bir insanın yaşı 2 yaşından küçük ise, \"Bu kişi bebektir\",\n",
    "#b) Eğer bir insanın yaşı 2 ile 4 arasındaysa (2 dâhil) \"Bu kişi yeni yürümeye başlayan çocuktur\",\n",
    "#c) Eğer bir insanın yaşı 4 ile 13 arasındaysa (4 dâhil) \"Bu kişi çocuktur\",\n",
    "#d) Eğer bir insanın yaşı 13 ile 20 arasındaysa (13 dâhil) \"Bu kişi ergendir\",\n",
    "#e) Eğer bir insanın yaşı 20 ile 65 arasındaysa (20 dâhil) \"Bu kişi yetişkindir\",\n",
    "#f) Eğer bir insanın yaşı 65 ve üstü ise (65 dâhil) \"Bu kişi yaşlıdır\" şeklinde çıktı veriniz.\n",
    "age=int(input(\"Bir yaş giriniz: \"))\n",
    "if age>0:\n",
    "    if age<2:\n",
    "        print(\"Bu kişi bebektir\")\n",
    "    elif age>=2 and age<4:\n",
    "        print(\"Bu kişi yeni yürümeye başlayan çocuktur\")\n",
    "    elif age>=4 and age<13:\n",
    "        print(\"Bu kişi çocuktur\")\n",
    "    elif age>=13 and age<20:\n",
    "        print(\"Bu kişi ergendir\")\n",
    "    elif age>=20 and age<65:\n",
    "        print(\"Bu kişi yetişkindir\")\n",
    "    else:\n",
    "        print(\"bu kişi yaşlıdır\")\n",
    "else:\n",
    "    print(\"geçersiz yaş girdiniz\")"
   ]
  },
  {
   "cell_type": "code",
   "execution_count": null,
   "id": "07c2dc34",
   "metadata": {},
   "outputs": [],
   "source": []
  },
  {
   "cell_type": "code",
   "execution_count": null,
   "id": "a4704b53",
   "metadata": {},
   "outputs": [],
   "source": []
  }
 ],
 "metadata": {
  "kernelspec": {
   "display_name": "Python 3 (ipykernel)",
   "language": "python",
   "name": "python3"
  },
  "language_info": {
   "codemirror_mode": {
    "name": "ipython",
    "version": 3
   },
   "file_extension": ".py",
   "mimetype": "text/x-python",
   "name": "python",
   "nbconvert_exporter": "python",
   "pygments_lexer": "ipython3",
   "version": "3.10.4"
  }
 },
 "nbformat": 4,
 "nbformat_minor": 5
}

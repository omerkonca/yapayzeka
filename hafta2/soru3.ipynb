{
 "cells": [
  {
   "cell_type": "code",
   "execution_count": 6,
   "id": "3b0b7eb4",
   "metadata": {},
   "outputs": [
    {
     "name": "stdout",
     "output_type": "stream",
     "text": [
      "uzayalının rengini giriniz: kırmızı\n",
      "tebrikler, kırmızı uzaylıyı vurduğunuz için 15 puan kazandınız\n"
     ]
    }
   ],
   "source": [
    "uzayli_rengi=input(\"uzayalının rengini giriniz: \")\n",
    "if uzayli_rengi== \"yeşil\" or uzayli_rengi==\"kırmızı\" or uzayli_rengi==\"sarı\":\n",
    "    if uzayli_rengi==\"yeşil\":\n",
    "        print(\"tebrikler, yeşil uzaylıyı vurduğunuz için 5 puan kazandınız\")\n",
    "    elif uzayli_rengi==\"sarı\":\n",
    "        print(\"tebrikler, sarı uzaylıyı vurduğunuz için 10 puan kazandınız\")\n",
    "    else:\n",
    "        print(\"tebrikler, kırmızı uzaylıyı vurduğunuz için 15 puan kazandınız\")\n",
    "else:\n",
    "    print(\"geçersiz renk girdiniz\")"
   ]
  },
  {
   "cell_type": "code",
   "execution_count": null,
   "id": "e26f2c23",
   "metadata": {},
   "outputs": [],
   "source": []
  }
 ],
 "metadata": {
  "kernelspec": {
   "display_name": "Python 3 (ipykernel)",
   "language": "python",
   "name": "python3"
  },
  "language_info": {
   "codemirror_mode": {
    "name": "ipython",
    "version": 3
   },
   "file_extension": ".py",
   "mimetype": "text/x-python",
   "name": "python",
   "nbconvert_exporter": "python",
   "pygments_lexer": "ipython3",
   "version": "3.10.4"
  }
 },
 "nbformat": 4,
 "nbformat_minor": 5
}

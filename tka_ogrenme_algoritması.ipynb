{
 "cells": [
  {
   "cell_type": "code",
   "execution_count": 12,
   "id": "452afe6b",
   "metadata": {},
   "outputs": [],
   "source": [
    "import random"
   ]
  },
  {
   "cell_type": "code",
   "execution_count": 13,
   "id": "426c4394",
   "metadata": {},
   "outputs": [],
   "source": [
    "rnd =random.random()\n",
    "portakal = [1, 0]\n",
    "elma = [0, 1]\n",
    "beklenenPortkl = 1\n",
    "beklenenElma = 0\n",
    "w1 = 1\n",
    "w2 = 2\n",
    "esikDeger = -1.0\n",
    "ogrenmeKatsayisi = 0.5\n",
    "netPortkl = 0.0\n",
    "netElma = 0.0\n",
    "i = 0"
   ]
  },
  {
   "cell_type": "code",
   "execution_count": 14,
   "id": "98c10bfa",
   "metadata": {},
   "outputs": [
    {
     "name": "stdout",
     "output_type": "stream",
     "text": [
      "Adim  =>  0  Net Portakal : 1  Net Elma : 2\n",
      "Adim  =>  1  Net Portakal : 1.0  Net Elma : 1.5\n",
      "Adim  =>  2  Net Portakal : 1.0  Net Elma : 1.0\n",
      "Adim  =>  3  Net Portakal : 1.0  Net Elma : 0.5\n",
      "Adim  =>  4  Net Portakal : 1.0  Net Elma : 0.0\n",
      "Adim  =>  5  Net Portakal : 1.0  Net Elma : -0.5\n",
      "Adim  =>  6  Net Portakal : 1.0  Net Elma : -1.0\n",
      "Son Agirliklar  : w1 = 1.0 w2 = -1.0\n",
      "1.örnek icin : NET= w1 : 1.0 *  x1 : 1 +  w2 : -1.0 *  x2 : 0 = 1\n",
      "2.örnek icin : NET= w1 : 1.0 *  x1 : 0 +  w2 : -1.0 *  x2 : 1 = 0\n"
     ]
    }
   ],
   "source": [
    "while (netPortkl < esikDeger or netElma > esikDeger):\n",
    "    print(\"Adim  =>  \" + str(i) + \"  \", end =\"\")\n",
    "    i += 1\n",
    "    netPortkl = portakal[0] * w1 + portakal[1] * w2\n",
    "    print(\"Net Portakal : \" + str(netPortkl) + \"  \", end =\"\")\n",
    "    if (netPortkl < esikDeger) :\n",
    "        w1 = w1 + ogrenmeKatsayisi * portakal[0]\n",
    "        w2 = w2 + ogrenmeKatsayisi * portakal[1]\n",
    "        continue\n",
    "    else :\n",
    "        netPortkl = beklenenPortkl\n",
    "        \n",
    "    if (netPortkl == beklenenPortkl) :\n",
    "        netElma = elma[0] * w1 + elma[1] * w2\n",
    "        print(\"Net Elma : \" + str(netElma))\n",
    "        \n",
    "    if (netElma > esikDeger) :\n",
    "        w1 = w1 - ogrenmeKatsayisi * elma[0]\n",
    "        w2 = w2 - ogrenmeKatsayisi * elma[1]\n",
    "        continue\n",
    "    else :\n",
    "        netElma = beklenenElma\n",
    "        break\n",
    "        \n",
    "print(\"Son Agirliklar  : w1 = \" + str(w1) + \" w2 = \" + str(w2))\n",
    "print(\"1.örnek icin : NET= w1 : \" + str(w1) + \" * \" + \" x1 : \" + str(portakal[0]) + \" + \" + \" w2 : \" + str(w2) + \" * \" + \" x2 : \" + str(portakal[1]) + \" = \" + str(netPortkl))\n",
    "print(\"2.örnek icin : NET= w1 : \" + str(w1) + \" * \" + \" x1 : \" + str(elma[0]) + \" + \" + \" w2 : \" + str(w2) + \" * \" + \" x2 : \" + str(elma[1]) + \" = \" + str(netElma))\n",
    "    \n",
    "\n"
   ]
  },
  {
   "cell_type": "code",
   "execution_count": null,
   "id": "c5341573",
   "metadata": {},
   "outputs": [],
   "source": []
  },
  {
   "cell_type": "code",
   "execution_count": null,
   "id": "ffb6285e",
   "metadata": {},
   "outputs": [],
   "source": []
  },
  {
   "cell_type": "code",
   "execution_count": null,
   "id": "3a0db8a7",
   "metadata": {},
   "outputs": [],
   "source": []
  },
  {
   "cell_type": "code",
   "execution_count": null,
   "id": "39a09ad9",
   "metadata": {},
   "outputs": [],
   "source": []
  }
 ],
 "metadata": {
  "kernelspec": {
   "display_name": "Python 3 (ipykernel)",
   "language": "python",
   "name": "python3"
  },
  "language_info": {
   "codemirror_mode": {
    "name": "ipython",
    "version": 3
   },
   "file_extension": ".py",
   "mimetype": "text/x-python",
   "name": "python",
   "nbconvert_exporter": "python",
   "pygments_lexer": "ipython3",
   "version": "3.9.12"
  }
 },
 "nbformat": 4,
 "nbformat_minor": 5
}

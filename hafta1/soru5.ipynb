{
 "cells": [
  {
   "cell_type": "code",
   "execution_count": 27,
   "id": "01294a5d",
   "metadata": {},
   "outputs": [],
   "source": [
    "import numpy as np"
   ]
  },
  {
   "cell_type": "code",
   "execution_count": 25,
   "id": "9c1e8671",
   "metadata": {},
   "outputs": [],
   "source": [
    "#İki tane (3,3) boyutunda rastgele sayılardan bir dizi oluşturunuz. Oluşturulan bu diziyi\n",
    "#hem yatay hem de dikey olacak şekilde istif (stack) ediniz"
   ]
  },
  {
   "cell_type": "code",
   "execution_count": 31,
   "id": "8c164ca4",
   "metadata": {},
   "outputs": [],
   "source": [
    "dizi1=([[10,11,12],[14,15,16],[18,19,20]])\n",
    "dizi2=([[22,23,24],[25,26,27],[29,30,31]])"
   ]
  },
  {
   "cell_type": "code",
   "execution_count": 32,
   "id": "ccae02c0",
   "metadata": {},
   "outputs": [
    {
     "name": "stdout",
     "output_type": "stream",
     "text": [
      "[[10 11 12]\n",
      " [14 15 16]\n",
      " [18 19 20]\n",
      " [22 23 24]\n",
      " [25 26 27]\n",
      " [29 30 31]]\n"
     ]
    }
   ],
   "source": [
    "print(np.vstack((dizi1,dizi2)))"
   ]
  },
  {
   "cell_type": "code",
   "execution_count": 33,
   "id": "fe061064",
   "metadata": {},
   "outputs": [
    {
     "name": "stdout",
     "output_type": "stream",
     "text": [
      "[[10 11 12 22 23 24]\n",
      " [14 15 16 25 26 27]\n",
      " [18 19 20 29 30 31]]\n"
     ]
    }
   ],
   "source": [
    "print(np.column_stack((dizi1,dizi2)))"
   ]
  },
  {
   "cell_type": "code",
   "execution_count": null,
   "id": "51b592cb",
   "metadata": {},
   "outputs": [],
   "source": []
  }
 ],
 "metadata": {
  "kernelspec": {
   "display_name": "Python 3 (ipykernel)",
   "language": "python",
   "name": "python3"
  },
  "language_info": {
   "codemirror_mode": {
    "name": "ipython",
    "version": 3
   },
   "file_extension": ".py",
   "mimetype": "text/x-python",
   "name": "python",
   "nbconvert_exporter": "python",
   "pygments_lexer": "ipython3",
   "version": "3.10.4"
  }
 },
 "nbformat": 4,
 "nbformat_minor": 5
}

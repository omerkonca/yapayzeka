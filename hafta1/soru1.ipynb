{
 "cells": [
  {
   "cell_type": "code",
   "execution_count": 36,
   "id": "06795a7a",
   "metadata": {},
   "outputs": [],
   "source": [
    "#csv formatında bu tabloyu oluşturup lokalde bu tabloyu Pandas kütüphanesini kullanarak açınız \n",
    "import numpy as np"
   ]
  },
  {
   "cell_type": "code",
   "execution_count": 35,
   "id": "88e19b23",
   "metadata": {},
   "outputs": [],
   "source": [
    "veri=pd.read_csv('C:/Users/omerk/Desktop/yapayzeka/grafik.csv',encoding=(\"iso-8859-9\"))"
   ]
  },
  {
   "cell_type": "code",
   "execution_count": 37,
   "id": "f178ca83",
   "metadata": {},
   "outputs": [
    {
     "name": "stdout",
     "output_type": "stream",
     "text": [
      "   Gün;Hava Durumu;Sıcaklık;Nem;Yağış;Oyun\n",
      "0       G1;güneşli;sıcak;yüksek;seyrek;yok\n",
      "1        G2;güneşli;sıcak;yüksek;aşırı;yok\n",
      "2        G3;kapalı;sıcak;yüksek;seyrek;var\n",
      "3     G4;yağmurlu;ılıman;yüksek;seyrek;var\n",
      "4      G5;yağmurlu;soğuk;normal;seyrek;var\n",
      "5       G6;yağmurlu;soğuk;normal;aşırı;yok\n",
      "6         G7;kapalı;soğuk;normal;aşırı;var\n",
      "7      G8;güneşli;ılıman;yüksek;seyrek;var\n",
      "8       G9;güneşli;soğuk;normal;seyrek;yok\n",
      "9    G10;yağmurlu;ılıman;normal;seyrek;var\n",
      "10     G11;güneşli;ılıman;normal;aşırı;var\n",
      "11      G12;kapalı;ılıman;yüksek;aşırı;yok\n",
      "12      G13;kapalı;sıcak;normal;seyrek;var\n",
      "13    G14;yağmurlu;ılıman;yüksek;aşırı;yok\n"
     ]
    }
   ],
   "source": [
    "print(veri)"
   ]
  },
  {
   "cell_type": "code",
   "execution_count": null,
   "id": "6daadc4a",
   "metadata": {},
   "outputs": [],
   "source": []
  },
  {
   "cell_type": "code",
   "execution_count": null,
   "id": "e0c77c1c",
   "metadata": {},
   "outputs": [],
   "source": []
  }
 ],
 "metadata": {
  "kernelspec": {
   "display_name": "Python 3 (ipykernel)",
   "language": "python",
   "name": "python3"
  },
  "language_info": {
   "codemirror_mode": {
    "name": "ipython",
    "version": 3
   },
   "file_extension": ".py",
   "mimetype": "text/x-python",
   "name": "python",
   "nbconvert_exporter": "python",
   "pygments_lexer": "ipython3",
   "version": "3.10.4"
  }
 },
 "nbformat": 4,
 "nbformat_minor": 5
}

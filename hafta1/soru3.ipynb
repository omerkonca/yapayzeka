{
 "cells": [
  {
   "cell_type": "code",
   "execution_count": 1,
   "id": "2a9dc170",
   "metadata": {},
   "outputs": [],
   "source": [
    "from pydoc import describe\n",
    "import pandas as pd\n",
    "import numpy as np"
   ]
  },
  {
   "cell_type": "code",
   "execution_count": 11,
   "id": "9bda9369",
   "metadata": {},
   "outputs": [],
   "source": [
    "#Pandas kütüphanesinin metodu olan DataFrame() ile yukarıda verilen tabloyu oluşturunuz ve\n",
    "#tablo hakkında betimleyici istatiksel bilgiler veriniz.\n",
    "data={\n",
    "\"Gün\": [\"G1\", \"G2\", \"G3\", \"G4\", \"G5\", \"G6\", \"G7\", \"G8\", \"G9\", \"G10\", \"G11\", \"G12\", \"G13\", \"G14\"],\n",
    "\"Hava Durumu\": [\"Güneşli\",\"Güneşli\", \"Kapalı\", \"Yağmurlu\",\"Yağmurlu\", \"Yağmurlu\", \"Kapalı\", \"Güneşli\", \"Güneşli\", \"Yağmurlu\", \"Güneşli\", \"Kapali\", \"Kapalı\", \"Yağmurlu\"],\n",
    "\"sıcaklık\":[\"sicak\", \"sicak\", \"sicak\", \"Ilman\", \"Soğuk\", \"Soğuk\", \"Soğuk\", \"Ilman\",\"soğuk\", \"Ilman\", \"Iliman\", \"Iliman\", \"Sicak\", \"Iliman\"],\n",
    "\"Nem\":[\"Yüksek\", \"Yüksek\", \"Yüksek\", \"Yüksek\", \"Normal\", \"Normal\",\"Normal\", \"Yüksek\",\"Normal\",\"Normal\", \"Normal\", \"Yüksek\",\"Normal\", \"Yüksek\"],\n",
    "\"Yağış\": [\"Seyrek\",\"Aşırı\",\"Seyrek\",\"Seyrek\", \"Seyrek\", \"Aşırı\", \"Aşırı\", \"Seyrek\", \"Seyrek\", \"Seyrek\", \"Aşırı\",\"Aşırı\",\"Seyrek\",\"Aşırı\"],\n",
    "\"Oyun\":[\"Yok\", \"Yok\", \"Var\", \"Var\", \"Var\", \"Yok\", \"Var\", \"Var\", \"Yok\", \"Var\", \"Var\", \"Yok\", \"Var\", \"Yok\"]}"
   ]
  },
  {
   "cell_type": "code",
   "execution_count": 20,
   "id": "47ad1a8e",
   "metadata": {},
   "outputs": [
    {
     "name": "stdout",
     "output_type": "stream",
     "text": [
      "dict\n",
      "    Gün Hava Durumu sıcaklık     Nem   Yağış Oyun\n",
      "0    G1     Güneşli    sicak  Yüksek  Seyrek  Yok\n",
      "1    G2     Güneşli    sicak  Yüksek   Aşırı  Yok\n",
      "2    G3      Kapalı    sicak  Yüksek  Seyrek  Var\n",
      "3    G4    Yağmurlu    Ilman  Yüksek  Seyrek  Var\n",
      "4    G5    Yağmurlu    Soğuk  Normal  Seyrek  Var\n",
      "5    G6    Yağmurlu    Soğuk  Normal   Aşırı  Yok\n",
      "6    G7      Kapalı    Soğuk  Normal   Aşırı  Var\n",
      "7    G8     Güneşli    Ilman  Yüksek  Seyrek  Var\n",
      "8    G9     Güneşli    soğuk  Normal  Seyrek  Yok\n",
      "9   G10    Yağmurlu    Ilman  Normal  Seyrek  Var\n",
      "10  G11     Güneşli   Iliman  Normal   Aşırı  Var\n",
      "11  G12      Kapali   Iliman  Yüksek   Aşırı  Yok\n",
      "12  G13      Kapalı    Sicak  Normal  Seyrek  Var\n",
      "13  G14    Yağmurlu   Iliman  Yüksek   Aşırı  Yok\n"
     ]
    }
   ],
   "source": [
    "veritwo=pd.DataFrame(data)\n",
    "print(describe(data))\n",
    "print(veritwo)"
   ]
  },
  {
   "cell_type": "code",
   "execution_count": null,
   "id": "50149466",
   "metadata": {},
   "outputs": [],
   "source": []
  }
 ],
 "metadata": {
  "kernelspec": {
   "display_name": "Python 3 (ipykernel)",
   "language": "python",
   "name": "python3"
  },
  "language_info": {
   "codemirror_mode": {
    "name": "ipython",
    "version": 3
   },
   "file_extension": ".py",
   "mimetype": "text/x-python",
   "name": "python",
   "nbconvert_exporter": "python",
   "pygments_lexer": "ipython3",
   "version": "3.10.4"
  }
 },
 "nbformat": 4,
 "nbformat_minor": 5
}

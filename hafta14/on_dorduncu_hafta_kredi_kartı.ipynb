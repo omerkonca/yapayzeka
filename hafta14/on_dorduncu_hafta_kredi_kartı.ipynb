{
 "cells": [
  {
   "cell_type": "code",
   "execution_count": 36,
   "id": "b80c7a2a",
   "metadata": {},
   "outputs": [],
   "source": [
    "import numpy as np\n",
    "import pandas as pd\n",
    "from sklearn.preprocessing import LabelEncoder"
   ]
  },
  {
   "cell_type": "code",
   "execution_count": 37,
   "id": "b5365aec",
   "metadata": {},
   "outputs": [],
   "source": [
    "egitimVeri=pd.read_csv(\"C:/Users/omerk/Documents/GitHub/yapayzeka/hafta14/creditcard.csv\")"
   ]
  },
  {
   "cell_type": "code",
   "execution_count": 38,
   "id": "ec62faa5",
   "metadata": {},
   "outputs": [],
   "source": [
    "label_encoder=LabelEncoder().fit(egitimVeri.Class)\n",
    "labels=label_encoder.transform(egitimVeri.Class)\n",
    "classes=list(label_encoder.classes_)"
   ]
  },
  {
   "cell_type": "code",
   "execution_count": 39,
   "id": "739853ec",
   "metadata": {},
   "outputs": [
    {
     "name": "stdout",
     "output_type": "stream",
     "text": [
      "               V1         V2        V3        V4        V5        V6  \\\n",
      "0       -1.359807  -0.072781  2.536347  1.378155 -0.338321  0.462388   \n",
      "1        1.191857   0.266151  0.166480  0.448154  0.060018 -0.082361   \n",
      "2       -1.358354  -1.340163  1.773209  0.379780 -0.503198  1.800499   \n",
      "3       -0.966272  -0.185226  1.792993 -0.863291 -0.010309  1.247203   \n",
      "4       -1.158233   0.877737  1.548718  0.403034 -0.407193  0.095921   \n",
      "...           ...        ...       ...       ...       ...       ...   \n",
      "284802 -11.881118  10.071785 -9.834783 -2.066656 -5.364473 -2.606837   \n",
      "284803  -0.732789  -0.055080  2.035030 -0.738589  0.868229  1.058415   \n",
      "284804   1.919565  -0.301254 -3.249640 -0.557828  2.630515  3.031260   \n",
      "284805  -0.240440   0.530483  0.702510  0.689799 -0.377961  0.623708   \n",
      "284806  -0.533413  -0.189733  0.703337 -0.506271 -0.012546 -0.649617   \n",
      "\n",
      "              V7        V8        V9       V10  ...       V20       V21  \\\n",
      "0       0.239599  0.098698  0.363787  0.090794  ...  0.251412 -0.018307   \n",
      "1      -0.078803  0.085102 -0.255425 -0.166974  ... -0.069083 -0.225775   \n",
      "2       0.791461  0.247676 -1.514654  0.207643  ...  0.524980  0.247998   \n",
      "3       0.237609  0.377436 -1.387024 -0.054952  ... -0.208038 -0.108300   \n",
      "4       0.592941 -0.270533  0.817739  0.753074  ...  0.408542 -0.009431   \n",
      "...          ...       ...       ...       ...  ...       ...       ...   \n",
      "284802 -4.918215  7.305334  1.914428  4.356170  ...  1.475829  0.213454   \n",
      "284803  0.024330  0.294869  0.584800 -0.975926  ...  0.059616  0.214205   \n",
      "284804 -0.296827  0.708417  0.432454 -0.484782  ...  0.001396  0.232045   \n",
      "284805 -0.686180  0.679145  0.392087 -0.399126  ...  0.127434  0.265245   \n",
      "284806  1.577006 -0.414650  0.486180 -0.915427  ...  0.382948  0.261057   \n",
      "\n",
      "             V22       V23       V24       V25       V26       V27       V28  \\\n",
      "0       0.277838 -0.110474  0.066928  0.128539 -0.189115  0.133558 -0.021053   \n",
      "1      -0.638672  0.101288 -0.339846  0.167170  0.125895 -0.008983  0.014724   \n",
      "2       0.771679  0.909412 -0.689281 -0.327642 -0.139097 -0.055353 -0.059752   \n",
      "3       0.005274 -0.190321 -1.175575  0.647376 -0.221929  0.062723  0.061458   \n",
      "4       0.798278 -0.137458  0.141267 -0.206010  0.502292  0.219422  0.215153   \n",
      "...          ...       ...       ...       ...       ...       ...       ...   \n",
      "284802  0.111864  1.014480 -0.509348  1.436807  0.250034  0.943651  0.823731   \n",
      "284803  0.924384  0.012463 -1.016226 -0.606624 -0.395255  0.068472 -0.053527   \n",
      "284804  0.578229 -0.037501  0.640134  0.265745 -0.087371  0.004455 -0.026561   \n",
      "284805  0.800049 -0.163298  0.123205 -0.569159  0.546668  0.108821  0.104533   \n",
      "284806  0.643078  0.376777  0.008797 -0.473649 -0.818267 -0.002415  0.013649   \n",
      "\n",
      "        Amount  \n",
      "0       149.62  \n",
      "1         2.69  \n",
      "2       378.66  \n",
      "3       123.50  \n",
      "4        69.99  \n",
      "...        ...  \n",
      "284802    0.77  \n",
      "284803   24.79  \n",
      "284804   67.88  \n",
      "284805   10.00  \n",
      "284806  217.00  \n",
      "\n",
      "[284807 rows x 29 columns]\n"
     ]
    }
   ],
   "source": [
    "#Eğitim ve test verileri gereksiz bilgilerden arındırılır \n",
    "egitimVeri = egitimVeri.drop([\"Class\",\"Time\"],axis=1) \n",
    "nb_features = 29\n",
    "nb_classes = len(classes)\n",
    "print(egitimVeri)"
   ]
  },
  {
   "cell_type": "code",
   "execution_count": 40,
   "id": "8effb2b0",
   "metadata": {},
   "outputs": [],
   "source": [
    "#Verilerin standartlaştırılması \n",
    "from sklearn.preprocessing import StandardScaler \n",
    "scaler = StandardScaler().fit(egitimVeri.values)\n",
    "eğitimVeri = scaler.transform(egitimVeri.values) "
   ]
  },
  {
   "cell_type": "code",
   "execution_count": 41,
   "id": "47b0e879",
   "metadata": {},
   "outputs": [],
   "source": [
    "#Eğitim ve doğrulama verilerinin belirlenmesi \n",
    "from sklearn.model_selection import train_test_split \n",
    "X_train, X_valid, y_train, y_valid = train_test_split(egitimVeri, labels, test_size = 0.2) "
   ]
  },
  {
   "cell_type": "code",
   "execution_count": 42,
   "id": "32b965f2",
   "metadata": {},
   "outputs": [
    {
     "name": "stdout",
     "output_type": "stream",
     "text": [
      "6607505\n",
      " --------\n",
      "1651898\n",
      "----\n",
      "455690\n",
      "----\n",
      "113924\n"
     ]
    }
   ],
   "source": [
    "#Çıktı değerlerinin kategorileştirilmesi \n",
    "from tensorflow.keras.utils import to_categorical \n",
    "y_train= to_categorical(y_train) \n",
    "y_valid = to_categorical(y_valid)\n",
    "\n",
    "print(X_train.size)\n",
    "print(\" --------\")\n",
    "print(X_valid.size)\n",
    "print(\"----\")\n",
    "print(y_train.size)\n",
    "print(\"----\")\n",
    "print(y_valid.size)\n",
    "\n",
    "\n",
    "\n",
    "#29*227.845=6.607.505\n",
    "#29*56.962=1.651.898"
   ]
  },
  {
   "cell_type": "code",
   "execution_count": 43,
   "id": "ebc562dd",
   "metadata": {},
   "outputs": [],
   "source": [
    "#Girdi verilerinin yeniden boyutlandırılması \n",
    "\n",
    "X_train = np.array(X_train).reshape(227845,29,1)\n",
    "X_valid = np.array(X_valid).reshape(56962,29,1)"
   ]
  },
  {
   "cell_type": "code",
   "execution_count": 44,
   "id": "5b4a3f9d",
   "metadata": {},
   "outputs": [
    {
     "name": "stdout",
     "output_type": "stream",
     "text": [
      "Model: \"sequential_3\"\n",
      "_________________________________________________________________\n",
      " Layer (type)                Output Shape              Param #   \n",
      "=================================================================\n",
      " conv1d_6 (Conv1D)           (None, 29, 512)           1024      \n",
      "                                                                 \n",
      " activation_9 (Activation)   (None, 29, 512)           0         \n",
      "                                                                 \n",
      " max_pooling1d_6 (MaxPooling  (None, 14, 512)          0         \n",
      " 1D)                                                             \n",
      "                                                                 \n",
      " conv1d_7 (Conv1D)           (None, 14, 256)           131328    \n",
      "                                                                 \n",
      " activation_10 (Activation)  (None, 14, 256)           0         \n",
      "                                                                 \n",
      " max_pooling1d_7 (MaxPooling  (None, 7, 256)           0         \n",
      " 1D)                                                             \n",
      "                                                                 \n",
      " lstm_3 (LSTM)               (None, 512)               1574912   \n",
      "                                                                 \n",
      " activation_11 (Activation)  (None, 512)               0         \n",
      "                                                                 \n",
      " batch_normalization_3 (Batc  (None, 512)              2048      \n",
      " hNormalization)                                                 \n",
      "                                                                 \n",
      " flatten_3 (Flatten)         (None, 512)               0         \n",
      "                                                                 \n",
      " dropout_3 (Dropout)         (None, 512)               0         \n",
      "                                                                 \n",
      " dense_9 (Dense)             (None, 2048)              1050624   \n",
      "                                                                 \n",
      " dense_10 (Dense)            (None, 1024)              2098176   \n",
      "                                                                 \n",
      " dense_11 (Dense)            (None, 2)                 2050      \n",
      "                                                                 \n",
      "=================================================================\n",
      "Total params: 4,860,162\n",
      "Trainable params: 4,859,138\n",
      "Non-trainable params: 1,024\n",
      "_________________________________________________________________\n"
     ]
    }
   ],
   "source": [
    "#Modelin oluşturulması \n",
    "from tensorflow.keras.models import Sequential \n",
    "from tensorflow.keras.layers import Dense, Activation, Dropout ,Conv1D\n",
    "from tensorflow.keras.layers import MaxPooling1D, Flatten, LSTM, BatchNormalization \n",
    "\n",
    "model = Sequential() \n",
    "model.add(Conv1D(512,1,input_shape=(nb_features,1)))\n",
    "model.add(Activation(\"relu\"))\n",
    "model.add(MaxPooling1D(2))\n",
    "model.add(Conv1D(256,1))\n",
    "model.add(Activation(\"relu\"))\n",
    "model.add(MaxPooling1D(2))\n",
    "model.add(LSTM(512))\n",
    "model.add(Activation(\"relu\"))\n",
    "model.add(BatchNormalization()) \n",
    "model.add((Flatten()))\n",
    "model.add(Dropout (0.15)) \n",
    "model.add(Dense(2048, activation=\"relu\"))\n",
    "model.add(Dense(1024, activation=\"relu\"))\n",
    "model.add(Dense (nb_classes, activation=\"softmax\")) \n",
    "model.summary() "
   ]
  },
  {
   "cell_type": "code",
   "execution_count": 45,
   "id": "3d3cbc3a",
   "metadata": {},
   "outputs": [
    {
     "name": "stdout",
     "output_type": "stream",
     "text": [
      "Epoch 1/10\n",
      "7121/7121 [==============================] - 1105s 155ms/step - loss: 0.0093 - accuracy: 0.9987 - val_loss: 0.0068 - val_accuracy: 0.9991\n",
      "Epoch 2/10\n",
      "7121/7121 [==============================] - 1131s 159ms/step - loss: 0.0055 - accuracy: 0.9991 - val_loss: 0.0057 - val_accuracy: 0.9991\n",
      "Epoch 3/10\n",
      "7121/7121 [==============================] - 1284s 180ms/step - loss: 0.0055 - accuracy: 0.9992 - val_loss: 0.0058 - val_accuracy: 0.9991\n",
      "Epoch 4/10\n",
      "7121/7121 [==============================] - 1041s 146ms/step - loss: 0.0055 - accuracy: 0.9992 - val_loss: 0.0067 - val_accuracy: 0.9990\n",
      "Epoch 5/10\n",
      "7121/7121 [==============================] - 6851s 962ms/step - loss: 0.0062 - accuracy: 0.9991 - val_loss: 0.0088 - val_accuracy: 0.9991\n",
      "Epoch 6/10\n",
      "7121/7121 [==============================] - 894s 125ms/step - loss: 0.0061 - accuracy: 0.9991 - val_loss: 0.0154 - val_accuracy: 0.9981\n",
      "Epoch 7/10\n",
      "7121/7121 [==============================] - 11777s 2s/step - loss: 0.0060 - accuracy: 0.9992 - val_loss: 0.0147 - val_accuracy: 0.9990\n",
      "Epoch 8/10\n",
      "7121/7121 [==============================] - 3737s 525ms/step - loss: 0.0064 - accuracy: 0.9989 - val_loss: 0.0113 - val_accuracy: 0.9992\n",
      "Epoch 9/10\n",
      "7121/7121 [==============================] - 1890s 265ms/step - loss: 0.0065 - accuracy: 0.9991 - val_loss: 0.0054 - val_accuracy: 0.9992\n",
      "Epoch 10/10\n",
      "7121/7121 [==============================] - 896s 126ms/step - loss: 0.0064 - accuracy: 0.9992 - val_loss: 0.0080 - val_accuracy: 0.9992\n"
     ]
    }
   ],
   "source": [
    "#Modelin derlenmesi\n",
    "model.compile(loss=\"categorical_crossentropy\", optimizer = \"rmsprop\", metrics=[\"accuracy\"]) \n",
    "#Modelin eğitilmesi \n",
    "score = model.fit(X_train, y_train, epochs = 10, validation_data=(X_valid,y_valid))"
   ]
  },
  {
   "cell_type": "code",
   "execution_count": 46,
   "id": "bb08b58f",
   "metadata": {},
   "outputs": [
    {
     "name": "stdout",
     "output_type": "stream",
     "text": [
      "('Ortalama Doğrulama Kaybı:', 0.008857455337420106)\n",
      "('Ortalama Doğrulama Başarımı: ', 0.9990151345729827)\n"
     ]
    }
   ],
   "source": [
    "print((\"Ortalama Doğrulama Kaybı:\", np.mean(model.history.history[\"val_loss\"])))\n",
    "print((\"Ortalama Doğrulama Başarımı: \", np.mean(model.history.history[\"val_accuracy\"]))) "
   ]
  },
  {
   "cell_type": "code",
   "execution_count": 47,
   "id": "73347708",
   "metadata": {},
   "outputs": [
    {
     "data": {
      "image/png": "[encoded data removed]",
      "text/plain": [
       "<Figure size 432x288 with 1 Axes>"
      ]
     },
     "metadata": {
      "needs_background": "light"
     },
     "output_type": "display_data"
    },
    {
     "data": {
      "image/png": "[encoded data removed]",
      "text/plain": [
       "<Figure size 432x288 with 1 Axes>"
      ]
     },
     "metadata": {
      "needs_background": "light"
     },
     "output_type": "display_data"
    }
   ],
   "source": [
    "#Eğitim ve doğrulama değerlerinin grafik üzerinde gösterilmesi\n",
    "import matplotlib.pyplot as plt\n",
    "\n",
    "plt.plot(model.history.history[\"accuracy\"],color=\"y\") \n",
    "plt.plot(model.history.history[\"val_accuracy\"],color=\"b\") \n",
    "plt.title(\"Model Başarımları\") \n",
    "plt.ylabel(\"Başarım\") \n",
    "plt.xlabel(\"Epok Sayısı\") \n",
    "plt.legend([\"Eğitim\",\"Test\"], loc=\"upper left\") \n",
    "plt.show() \n",
    "\n",
    "plt.plot(model.history.history[\"loss\"],color=\"g\")\n",
    "plt.plot(model.history.history[\"val_loss\"],color=\"r\") \n",
    "plt.title(\"Model Kayıpları\") \n",
    "plt.ylabel(\"Kayıp\")\n",
    "plt.xlabel(\"Epok Sayısı\") \n",
    "plt.legend ([\"Eğitim\",\"Doğrulama\"], loc=\"upper left\")\n",
    "plt.show() "
   ]
  }
 ],
 "metadata": {
  "kernelspec": {
   "display_name": "Python 3 (ipykernel)",
   "language": "python",
   "name": "python3"
  },
  "language_info": {
   "codemirror_mode": {
    "name": "ipython",
    "version": 3
   },
   "file_extension": ".py",
   "mimetype": "text/x-python",
   "name": "python",
   "nbconvert_exporter": "python",
   "pygments_lexer": "ipython3",
   "version": "3.9.12"
  }
 },
 "nbformat": 4,
 "nbformat_minor": 5
}

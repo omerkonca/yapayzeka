{
 "cells": [
  {
   "cell_type": "code",
   "execution_count": 1,
   "id": "580e5ff7",
   "metadata": {},
   "outputs": [],
   "source": [
    "import numpy as np\n",
    "import pandas as pd\n",
    "from sklearn.preprocessing import LabelEncoder"
   ]
  },
  {
   "cell_type": "code",
   "execution_count": 2,
   "id": "f338dc5d",
   "metadata": {},
   "outputs": [],
   "source": [
    "egitimVeri=pd.read_csv(\"C:/Users/omerk/Documents/GitHub/yapayzeka/hafta14/telefonveriseti/train.csv\")\n",
    "#testVeri=pd.read_csv(\"C:/Users/omerk/Documents/GitHub/yapayzeka/hafta14/telefonveriseti/train.csv\")"
   ]
  },
  {
   "cell_type": "code",
   "execution_count": 3,
   "id": "9d2d1361",
   "metadata": {},
   "outputs": [],
   "source": [
    "label_encoder=LabelEncoder().fit(egitimVeri.price_range)\n",
    "labels=label_encoder.transform(egitimVeri.price_range)\n",
    "classes=list(label_encoder.classes_)"
   ]
  },
  {
   "cell_type": "code",
   "execution_count": 4,
   "id": "e85c915f",
   "metadata": {},
   "outputs": [
    {
     "name": "stdout",
     "output_type": "stream",
     "text": [
      "      battery_power  blue  clock_speed  dual_sim  fc  four_g  int_memory  \\\n",
      "0               842     0          2.2         0   1       0           7   \n",
      "1              1021     1          0.5         1   0       1          53   \n",
      "2               563     1          0.5         1   2       1          41   \n",
      "3               615     1          2.5         0   0       0          10   \n",
      "4              1821     1          1.2         0  13       1          44   \n",
      "...             ...   ...          ...       ...  ..     ...         ...   \n",
      "1995            794     1          0.5         1   0       1           2   \n",
      "1996           1965     1          2.6         1   0       0          39   \n",
      "1997           1911     0          0.9         1   1       1          36   \n",
      "1998           1512     0          0.9         0   4       1          46   \n",
      "1999            510     1          2.0         1   5       1          45   \n",
      "\n",
      "      m_dep  mobile_wt  n_cores  pc  px_height  px_width   ram  sc_h  sc_w  \\\n",
      "0       0.6        188        2   2         20       756  2549     9     7   \n",
      "1       0.7        136        3   6        905      1988  2631    17     3   \n",
      "2       0.9        145        5   6       1263      1716  2603    11     2   \n",
      "3       0.8        131        6   9       1216      1786  2769    16     8   \n",
      "4       0.6        141        2  14       1208      1212  1411     8     2   \n",
      "...     ...        ...      ...  ..        ...       ...   ...   ...   ...   \n",
      "1995    0.8        106        6  14       1222      1890   668    13     4   \n",
      "1996    0.2        187        4   3        915      1965  2032    11    10   \n",
      "1997    0.7        108        8   3        868      1632  3057     9     1   \n",
      "1998    0.1        145        5   5        336       670   869    18    10   \n",
      "1999    0.9        168        6  16        483       754  3919    19     4   \n",
      "\n",
      "      talk_time  three_g  touch_screen  wifi  \n",
      "0            19        0             0     1  \n",
      "1             7        1             1     0  \n",
      "2             9        1             1     0  \n",
      "3            11        1             0     0  \n",
      "4            15        1             1     0  \n",
      "...         ...      ...           ...   ...  \n",
      "1995         19        1             1     0  \n",
      "1996         16        1             1     1  \n",
      "1997          5        1             1     0  \n",
      "1998         19        1             1     1  \n",
      "1999          2        1             1     1  \n",
      "\n",
      "[2000 rows x 20 columns]\n"
     ]
    }
   ],
   "source": [
    "#Eğitim ve test verileri gereksiz bilgilerden arındırılır \n",
    "egitimVeri = egitimVeri.drop([\"price_range\"],axis=1) \n",
    "nb_features = 20\n",
    "nb_classes = len(classes)\n",
    "print(egitimVeri)"
   ]
  },
  {
   "cell_type": "code",
   "execution_count": 5,
   "id": "ae16e105",
   "metadata": {},
   "outputs": [],
   "source": [
    "#Verilerin standartlaştırılması \n",
    "from sklearn.preprocessing import StandardScaler \n",
    "scaler = StandardScaler().fit(egitimVeri.values)\n",
    "eğitimVeri = scaler.transform(egitimVeri.values) "
   ]
  },
  {
   "cell_type": "code",
   "execution_count": 6,
   "id": "6c613882",
   "metadata": {},
   "outputs": [],
   "source": [
    "#Eğitim ve doğrulama verilerinin belirlenmesi \n",
    "from sklearn.model_selection import train_test_split \n",
    "X_train, X_valid, y_train, y_valid = train_test_split(egitimVeri, labels, test_size = 0.2) "
   ]
  },
  {
   "cell_type": "code",
   "execution_count": 7,
   "id": "e0d1e432",
   "metadata": {},
   "outputs": [
    {
     "name": "stdout",
     "output_type": "stream",
     "text": [
      "32000\n",
      " --------\n",
      "8000\n",
      "----\n",
      "6400\n",
      "----\n",
      "1600\n"
     ]
    }
   ],
   "source": [
    "#Çıktı değerlerinin kategorileştirilmesi \n",
    "from tensorflow.keras.utils import to_categorical \n",
    "y_train= to_categorical(y_train) \n",
    "y_valid = to_categorical(y_valid)\n",
    "\n",
    "print(X_train.size)\n",
    "print(\" --------\")\n",
    "print(X_valid.size)\n",
    "print(\"----\")\n",
    "print(y_train.size)\n",
    "print(\"----\")\n",
    "print(y_valid.size)\n",
    "\n",
    "\n",
    "\n",
    "\n",
    "# 4*7000=28000    => 2000*14\n",
    "# 4*3000=12000    => 2000*6"
   ]
  },
  {
   "cell_type": "code",
   "execution_count": 8,
   "id": "960a335c",
   "metadata": {},
   "outputs": [],
   "source": [
    "#Girdi verilerinin yeniden boyutlandırılması \n",
    "\n",
    "X_train = np.array(X_train).reshape(1600,20,1)\n",
    "X_valid = np.array(X_valid).reshape(400,20,1)\n"
   ]
  },
  {
   "cell_type": "code",
   "execution_count": 9,
   "id": "53681c38",
   "metadata": {},
   "outputs": [
    {
     "name": "stdout",
     "output_type": "stream",
     "text": [
      "Model: \"sequential\"\n",
      "_________________________________________________________________\n",
      " Layer (type)                Output Shape              Param #   \n",
      "=================================================================\n",
      " conv1d (Conv1D)             (None, 20, 512)           1024      \n",
      "                                                                 \n",
      " activation (Activation)     (None, 20, 512)           0         \n",
      "                                                                 \n",
      " max_pooling1d (MaxPooling1D  (None, 10, 512)          0         \n",
      " )                                                               \n",
      "                                                                 \n",
      " conv1d_1 (Conv1D)           (None, 10, 256)           131328    \n",
      "                                                                 \n",
      " activation_1 (Activation)   (None, 10, 256)           0         \n",
      "                                                                 \n",
      " max_pooling1d_1 (MaxPooling  (None, 5, 256)           0         \n",
      " 1D)                                                             \n",
      "                                                                 \n",
      " lstm (LSTM)                 (None, 512)               1574912   \n",
      "                                                                 \n",
      " activation_2 (Activation)   (None, 512)               0         \n",
      "                                                                 \n",
      " batch_normalization (BatchN  (None, 512)              2048      \n",
      " ormalization)                                                   \n",
      "                                                                 \n",
      " flatten (Flatten)           (None, 512)               0         \n",
      "                                                                 \n",
      " dropout (Dropout)           (None, 512)               0         \n",
      "                                                                 \n",
      " dense (Dense)               (None, 2048)              1050624   \n",
      "                                                                 \n",
      " dense_1 (Dense)             (None, 1024)              2098176   \n",
      "                                                                 \n",
      " dense_2 (Dense)             (None, 4)                 4100      \n",
      "                                                                 \n",
      "=================================================================\n",
      "Total params: 4,862,212\n",
      "Trainable params: 4,861,188\n",
      "Non-trainable params: 1,024\n",
      "_________________________________________________________________\n"
     ]
    }
   ],
   "source": [
    "#Modelin oluşturulması \n",
    "from tensorflow.keras.models import Sequential \n",
    "from tensorflow.keras.layers import Dense, Activation, Dropout ,Conv1D\n",
    "from tensorflow.keras.layers import MaxPooling1D, Flatten, LSTM, BatchNormalization \n",
    "\n",
    "model = Sequential() \n",
    "model.add(Conv1D(512,1,input_shape=(nb_features,1)))\n",
    "model.add(Activation(\"relu\"))\n",
    "model.add(MaxPooling1D(2))\n",
    "model.add(Conv1D(256,1))\n",
    "model.add(Activation(\"relu\"))\n",
    "model.add(MaxPooling1D(2))\n",
    "model.add(LSTM(512))\n",
    "model.add(Activation(\"relu\"))\n",
    "model.add(BatchNormalization()) \n",
    "model.add((Flatten()))\n",
    "model.add(Dropout (0.15)) \n",
    "model.add(Dense(2048, activation=\"relu\"))\n",
    "model.add(Dense(1024, activation=\"relu\"))\n",
    "model.add(Dense (nb_classes, activation=\"softmax\")) \n",
    "model.summary() "
   ]
  },
  {
   "cell_type": "code",
   "execution_count": null,
   "id": "fdb31cce",
   "metadata": {},
   "outputs": [
    {
     "name": "stdout",
     "output_type": "stream",
     "text": [
      "Epoch 1/150\n",
      "50/50 [==============================] - 8s 119ms/step - loss: 1.4890 - accuracy: 0.2450 - val_loss: 1.3865 - val_accuracy: 0.2500\n",
      "Epoch 2/150\n",
      "50/50 [==============================] - 6s 113ms/step - loss: 1.4006 - accuracy: 0.2587 - val_loss: 1.3855 - val_accuracy: 0.2500\n",
      "Epoch 3/150\n",
      "50/50 [==============================] - 6s 126ms/step - loss: 1.3959 - accuracy: 0.2419 - val_loss: 1.3851 - val_accuracy: 0.2625\n",
      "Epoch 4/150\n",
      "50/50 [==============================] - 6s 121ms/step - loss: 1.3952 - accuracy: 0.2525 - val_loss: 1.3891 - val_accuracy: 0.2500\n",
      "Epoch 5/150\n",
      "50/50 [==============================] - 6s 130ms/step - loss: 1.3903 - accuracy: 0.2669 - val_loss: 1.3877 - val_accuracy: 0.2500\n",
      "Epoch 6/150\n",
      "50/50 [==============================] - 6s 126ms/step - loss: 1.3899 - accuracy: 0.2606 - val_loss: 1.3889 - val_accuracy: 0.2500\n",
      "Epoch 7/150\n",
      "50/50 [==============================] - 6s 119ms/step - loss: 1.3898 - accuracy: 0.2500 - val_loss: 1.3884 - val_accuracy: 0.2500\n",
      "Epoch 8/150\n",
      "50/50 [==============================] - 6s 114ms/step - loss: 1.3896 - accuracy: 0.2731 - val_loss: 1.3994 - val_accuracy: 0.2500\n",
      "Epoch 9/150\n",
      "50/50 [==============================] - 5s 108ms/step - loss: 1.3890 - accuracy: 0.2594 - val_loss: 1.4029 - val_accuracy: 0.2500\n",
      "Epoch 10/150\n",
      "50/50 [==============================] - 5s 107ms/step - loss: 1.3883 - accuracy: 0.2656 - val_loss: 1.4888 - val_accuracy: 0.2500\n",
      "Epoch 11/150\n",
      "50/50 [==============================] - 5s 109ms/step - loss: 1.3849 - accuracy: 0.2831 - val_loss: 1.7133 - val_accuracy: 0.2500\n",
      "Epoch 12/150\n",
      "50/50 [==============================] - 6s 110ms/step - loss: 1.3861 - accuracy: 0.2719 - val_loss: 2.6066 - val_accuracy: 0.2500\n",
      "Epoch 13/150\n",
      "50/50 [==============================] - 6s 126ms/step - loss: 1.3873 - accuracy: 0.2713 - val_loss: 2.2893 - val_accuracy: 0.2500\n",
      "Epoch 14/150\n",
      "50/50 [==============================] - 6s 119ms/step - loss: 1.3859 - accuracy: 0.2725 - val_loss: 2.9719 - val_accuracy: 0.2500\n",
      "Epoch 15/150\n",
      "50/50 [==============================] - 6s 113ms/step - loss: 1.3818 - accuracy: 0.2937 - val_loss: 3.9601 - val_accuracy: 0.2500\n",
      "Epoch 16/150\n",
      "50/50 [==============================] - 6s 110ms/step - loss: 1.3796 - accuracy: 0.2981 - val_loss: 4.0663 - val_accuracy: 0.2500\n",
      "Epoch 17/150\n",
      "50/50 [==============================] - 6s 117ms/step - loss: 1.3512 - accuracy: 0.3394 - val_loss: 7.0948 - val_accuracy: 0.2125\n",
      "Epoch 18/150\n",
      "50/50 [==============================] - 6s 112ms/step - loss: 1.1491 - accuracy: 0.4506 - val_loss: 11.3046 - val_accuracy: 0.2125\n",
      "Epoch 19/150\n",
      "50/50 [==============================] - 6s 121ms/step - loss: 1.2003 - accuracy: 0.4319 - val_loss: 1.3814 - val_accuracy: 0.3150\n",
      "Epoch 20/150\n",
      "50/50 [==============================] - 6s 118ms/step - loss: 1.0834 - accuracy: 0.4837 - val_loss: 7.6668 - val_accuracy: 0.2125\n",
      "Epoch 21/150\n",
      "50/50 [==============================] - 5s 108ms/step - loss: 1.0880 - accuracy: 0.4725 - val_loss: 1.7147 - val_accuracy: 0.5350\n",
      "Epoch 22/150\n",
      "50/50 [==============================] - 5s 110ms/step - loss: 1.1745 - accuracy: 0.4344 - val_loss: 1.9753 - val_accuracy: 0.3075\n",
      "Epoch 23/150\n",
      "50/50 [==============================] - 5s 109ms/step - loss: 1.0855 - accuracy: 0.4938 - val_loss: 14.4477 - val_accuracy: 0.2500\n",
      "Epoch 24/150\n",
      "50/50 [==============================] - 5s 108ms/step - loss: 1.0782 - accuracy: 0.4856 - val_loss: 1.3087 - val_accuracy: 0.4525\n",
      "Epoch 25/150\n",
      "50/50 [==============================] - 6s 112ms/step - loss: 0.9982 - accuracy: 0.5238 - val_loss: 5.8231 - val_accuracy: 0.2125\n",
      "Epoch 26/150\n",
      "50/50 [==============================] - 6s 111ms/step - loss: 0.9328 - accuracy: 0.5825 - val_loss: 28.0697 - val_accuracy: 0.2125\n",
      "Epoch 27/150\n",
      "50/50 [==============================] - 6s 114ms/step - loss: 0.8900 - accuracy: 0.5913 - val_loss: 5.5646 - val_accuracy: 0.3525\n",
      "Epoch 28/150\n",
      "50/50 [==============================] - 6s 111ms/step - loss: 0.8089 - accuracy: 0.6131 - val_loss: 28.7232 - val_accuracy: 0.2125\n",
      "Epoch 29/150\n",
      "50/50 [==============================] - 7s 141ms/step - loss: 0.8302 - accuracy: 0.6200 - val_loss: 3.7659 - val_accuracy: 0.3525\n",
      "Epoch 30/150\n",
      "50/50 [==============================] - 8s 162ms/step - loss: 0.7821 - accuracy: 0.6356 - val_loss: 12.0822 - val_accuracy: 0.2125\n",
      "Epoch 31/150\n",
      "50/50 [==============================] - 7s 140ms/step - loss: 0.7704 - accuracy: 0.6519 - val_loss: 7.1245 - val_accuracy: 0.2225\n",
      "Epoch 32/150\n",
      "50/50 [==============================] - 8s 154ms/step - loss: 0.7690 - accuracy: 0.6525 - val_loss: 2.3430 - val_accuracy: 0.3825\n",
      "Epoch 33/150\n",
      "50/50 [==============================] - 7s 142ms/step - loss: 0.6718 - accuracy: 0.6862 - val_loss: 1.9749 - val_accuracy: 0.3500\n",
      "Epoch 34/150\n",
      "50/50 [==============================] - 8s 152ms/step - loss: 0.5808 - accuracy: 0.7412 - val_loss: 3.8111 - val_accuracy: 0.4200\n",
      "Epoch 35/150\n",
      "50/50 [==============================] - 6s 114ms/step - loss: 0.6394 - accuracy: 0.6938 - val_loss: 19.3164 - val_accuracy: 0.2500\n",
      "Epoch 36/150\n",
      "50/50 [==============================] - 6s 115ms/step - loss: 0.6466 - accuracy: 0.7013 - val_loss: 3.4168 - val_accuracy: 0.4950\n",
      "Epoch 37/150\n",
      "50/50 [==============================] - 6s 117ms/step - loss: 0.5980 - accuracy: 0.7275 - val_loss: 6.8120 - val_accuracy: 0.2300\n",
      "Epoch 38/150\n",
      "50/50 [==============================] - 8s 151ms/step - loss: 0.5812 - accuracy: 0.7312 - val_loss: 14.3790 - val_accuracy: 0.2625\n",
      "Epoch 39/150\n",
      "50/50 [==============================] - 11s 228ms/step - loss: 0.6055 - accuracy: 0.7300 - val_loss: 3.4719 - val_accuracy: 0.3075\n"
     ]
    }
   ],
   "source": [
    "#Modelin derlenmesi\n",
    "model.compile(loss=\"categorical_crossentropy\", optimizer = \"rmsprop\", metrics=[\"accuracy\"]) \n",
    "#Modelin eğitilmesi \n",
    "score = model.fit(X_train, y_train, epochs = 150, validation_data=(X_valid,y_valid))"
   ]
  },
  {
   "cell_type": "code",
   "execution_count": 11,
   "id": "3f02ea33",
   "metadata": {},
   "outputs": [
    {
     "name": "stdout",
     "output_type": "stream",
     "text": [
      "('Ortalama Doğrulama Kaybı:', 1.9604300645987194)\n",
      "('Ortalama Doğrulama Başarımı: ', 0.5305000002185504)\n"
     ]
    }
   ],
   "source": [
    "print((\"Ortalama Doğrulama Kaybı:\", np.mean(model.history.history[\"val_loss\"])))\n",
    "print((\"Ortalama Doğrulama Başarımı: \", np.mean(model.history.history[\"val_accuracy\"]))) "
   ]
  },
  {
   "cell_type": "code",
   "execution_count": 12,
   "id": "75629686",
   "metadata": {},
   "outputs": [
    {
     "data": {
      "image/png": "[encoded data removed]",
      "text/plain": [
       "<Figure size 432x288 with 1 Axes>"
      ]
     },
     "metadata": {
      "needs_background": "light"
     },
     "output_type": "display_data"
    },
    {
     "data": {
      "image/png": "[encoded data removed]",
      "text/plain": [
       "<Figure size 432x288 with 1 Axes>"
      ]
     },
     "metadata": {
      "needs_background": "light"
     },
     "output_type": "display_data"
    }
   ],
   "source": [
    "#Eğitim ve doğrulama değerlerinin grafik üzerinde gösterilmesi\n",
    "import matplotlib.pyplot as plt\n",
    "\n",
    "plt.plot(model.history.history[\"accuracy\"],color=\"y\") \n",
    "plt.plot(model.history.history[\"val_accuracy\"],color=\"b\") \n",
    "plt.title(\"Model Başarımları\") \n",
    "plt.ylabel(\"Başarım\") \n",
    "plt.xlabel(\"Epok Sayısı\") \n",
    "plt.legend([\"Eğitim\",\"Test\"], loc=\"upper left\") \n",
    "plt.show() \n",
    "\n",
    "plt.plot(model.history.history[\"loss\"],color=\"g\")\n",
    "plt.plot(model.history.history[\"val_loss\"],color=\"r\") \n",
    "plt.title(\"Model Kayıpları\") \n",
    "plt.ylabel(\"Kayıp\")\n",
    "plt.xlabel(\"Epok Sayısı\") \n",
    "plt.legend ([\"Eğitim\",\"Doğrulama\"], loc=\"upper left\")\n",
    "plt.show() "
   ]
  },
  {
   "cell_type": "code",
   "execution_count": null,
   "id": "90cec03c",
   "metadata": {},
   "outputs": [],
   "source": []
  },
  {
   "cell_type": "code",
   "execution_count": null,
   "id": "4abbeac4",
   "metadata": {},
   "outputs": [],
   "source": []
  },
  {
   "cell_type": "code",
   "execution_count": null,
   "id": "01192457",
   "metadata": {},
   "outputs": [],
   "source": []
  },
  {
   "cell_type": "code",
   "execution_count": null,
   "id": "21d8d051",
   "metadata": {},
   "outputs": [],
   "source": []
  },
  {
   "cell_type": "code",
   "execution_count": null,
   "id": "4abab7d6",
   "metadata": {},
   "outputs": [],
   "source": []
  },
  {
   "cell_type": "code",
   "execution_count": null,
   "id": "ba1dca9f",
   "metadata": {},
   "outputs": [],
   "source": []
  },
  {
   "cell_type": "code",
   "execution_count": null,
   "id": "202a64b7",
   "metadata": {},
   "outputs": [],
   "source": []
  },
  {
   "cell_type": "code",
   "execution_count": null,
   "id": "a6fe5ad8",
   "metadata": {},
   "outputs": [],
   "source": []
  },
  {
   "cell_type": "code",
   "execution_count": null,
   "id": "e82abda9",
   "metadata": {},
   "outputs": [],
   "source": []
  }
 ],
 "metadata": {
  "kernelspec": {
   "display_name": "Python 3 (ipykernel)",
   "language": "python",
   "name": "python3"
  },
  "language_info": {
   "codemirror_mode": {
    "name": "ipython",
    "version": 3
   },
   "file_extension": ".py",
   "mimetype": "text/x-python",
   "name": "python",
   "nbconvert_exporter": "python",
   "pygments_lexer": "ipython3",
   "version": "3.9.12"
  }
 },
 "nbformat": 4,
 "nbformat_minor": 5
}

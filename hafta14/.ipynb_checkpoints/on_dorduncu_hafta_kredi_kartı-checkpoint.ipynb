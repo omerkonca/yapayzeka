{
 "cells": [
  {
   "cell_type": "code",
   "execution_count": null,
   "id": "b80c7a2a",
   "metadata": {},
   "outputs": [],
   "source": [
    "import numpy as np\n",
    "import pandas as pd\n",
    "from sklearn.preprocessing import LabelEncoder"
   ]
  },
  {
   "cell_type": "code",
   "execution_count": null,
   "id": "b5365aec",
   "metadata": {},
   "outputs": [],
   "source": [
    "egitimVeri=pd.read_csv(\"C:/Users/omerk/Documents/GitHub/yapayzeka/hafta14/creditcard.csv\")"
   ]
  },
  {
   "cell_type": "code",
   "execution_count": null,
   "id": "ec62faa5",
   "metadata": {},
   "outputs": [],
   "source": [
    "label_encoder=LabelEncoder().fit(egitimVeri.Class)\n",
    "labels=label_encoder.transform(egitimVeri.Class)\n",
    "classes=list(label_encoder.classes_)"
   ]
  },
  {
   "cell_type": "code",
   "execution_count": null,
   "id": "739853ec",
   "metadata": {},
   "outputs": [],
   "source": [
    "#Eğitim ve test verileri gereksiz bilgilerden arındırılır \n",
    "egitimVeri = egitimVeri.drop([\"Class\",\"Time\"],axis=1) \n",
    "nb_features = 29\n",
    "nb_classes = len(classes)\n",
    "print(egitimVeri)"
   ]
  },
  {
   "cell_type": "code",
   "execution_count": null,
   "id": "8effb2b0",
   "metadata": {},
   "outputs": [],
   "source": [
    "#Verilerin standartlaştırılması \n",
    "from sklearn.preprocessing import StandardScaler \n",
    "scaler = StandardScaler().fit(egitimVeri.values)\n",
    "eğitimVeri = scaler.transform(egitimVeri.values) "
   ]
  },
  {
   "cell_type": "code",
   "execution_count": null,
   "id": "47b0e879",
   "metadata": {},
   "outputs": [],
   "source": [
    "#Eğitim ve doğrulama verilerinin belirlenmesi \n",
    "from sklearn.model_selection import train_test_split \n",
    "X_train, X_valid, y_train, y_valid = train_test_split(egitimVeri, labels, test_size = 0.2) "
   ]
  },
  {
   "cell_type": "code",
   "execution_count": null,
   "id": "32b965f2",
   "metadata": {},
   "outputs": [],
   "source": [
    "#Çıktı değerlerinin kategorileştirilmesi \n",
    "from tensorflow.keras.utils import to_categorical \n",
    "y_train= to_categorical(y_train) \n",
    "y_valid = to_categorical(y_valid)\n",
    "\n",
    "print(X_train.size)\n",
    "print(\" --------\")\n",
    "print(X_valid.size)\n",
    "print(\"----\")\n",
    "print(y_train.size)\n",
    "print(\"----\")\n",
    "print(y_valid.size)\n",
    "\n",
    "\n",
    "\n",
    "#29*227.845=6.607.505\n",
    "#29*56.962=1.651.898"
   ]
  },
  {
   "cell_type": "code",
   "execution_count": 9,
   "id": "ebc562dd",
   "metadata": {},
   "outputs": [],
   "source": [
    "#Girdi verilerinin yeniden boyutlandırılması \n",
    "\n",
    "X_train = np.array(X_train).reshape(227845,29,1)\n",
    "X_valid = np.array(X_valid).reshape(56962,29,1)"
   ]
  },
  {
   "cell_type": "code",
   "execution_count": 10,
   "id": "5b4a3f9d",
   "metadata": {},
   "outputs": [
    {
     "name": "stdout",
     "output_type": "stream",
     "text": [
      "Model: \"sequential\"\n",
      "_________________________________________________________________\n",
      " Layer (type)                Output Shape              Param #   \n",
      "=================================================================\n",
      " conv1d (Conv1D)             (None, 29, 512)           1024      \n",
      "                                                                 \n",
      " activation (Activation)     (None, 29, 512)           0         \n",
      "                                                                 \n",
      " max_pooling1d (MaxPooling1D  (None, 14, 512)          0         \n",
      " )                                                               \n",
      "                                                                 \n",
      " conv1d_1 (Conv1D)           (None, 14, 256)           131328    \n",
      "                                                                 \n",
      " activation_1 (Activation)   (None, 14, 256)           0         \n",
      "                                                                 \n",
      " max_pooling1d_1 (MaxPooling  (None, 7, 256)           0         \n",
      " 1D)                                                             \n",
      "                                                                 \n",
      " lstm (LSTM)                 (None, 512)               1574912   \n",
      "                                                                 \n",
      " activation_2 (Activation)   (None, 512)               0         \n",
      "                                                                 \n",
      " batch_normalization (BatchN  (None, 512)              2048      \n",
      " ormalization)                                                   \n",
      "                                                                 \n",
      " flatten (Flatten)           (None, 512)               0         \n",
      "                                                                 \n",
      " dropout (Dropout)           (None, 512)               0         \n",
      "                                                                 \n",
      " dense (Dense)               (None, 2048)              1050624   \n",
      "                                                                 \n",
      " dense_1 (Dense)             (None, 1024)              2098176   \n",
      "                                                                 \n",
      " dense_2 (Dense)             (None, 2)                 2050      \n",
      "                                                                 \n",
      "=================================================================\n",
      "Total params: 4,860,162\n",
      "Trainable params: 4,859,138\n",
      "Non-trainable params: 1,024\n",
      "_________________________________________________________________\n"
     ]
    }
   ],
   "source": [
    "#Modelin oluşturulması \n",
    "from tensorflow.keras.models import Sequential \n",
    "from tensorflow.keras.layers import Dense, Activation, Dropout ,Conv1D\n",
    "from tensorflow.keras.layers import MaxPooling1D, Flatten, LSTM, BatchNormalization \n",
    "\n",
    "model = Sequential() \n",
    "model.add(Conv1D(512,1,input_shape=(nb_features,1)))\n",
    "model.add(Activation(\"relu\"))\n",
    "model.add(MaxPooling1D(2))\n",
    "model.add(Conv1D(256,1))\n",
    "model.add(Activation(\"relu\"))\n",
    "model.add(MaxPooling1D(2))\n",
    "model.add(LSTM(512))\n",
    "model.add(Activation(\"relu\"))\n",
    "model.add(BatchNormalization()) \n",
    "model.add((Flatten()))\n",
    "model.add(Dropout (0.15)) \n",
    "model.add(Dense(2048, activation=\"relu\"))\n",
    "model.add(Dense(1024, activation=\"relu\"))\n",
    "model.add(Dense (nb_classes, activation=\"softmax\")) \n",
    "model.summary() "
   ]
  },
  {
   "cell_type": "code",
   "execution_count": null,
   "id": "3d3cbc3a",
   "metadata": {},
   "outputs": [],
   "source": [
    "#Modelin derlenmesi\n",
    "model.compile(loss=\"categorical_crossentropy\", optimizer = \"rmsprop\", metrics=[\"accuracy\"]) \n",
    "#Modelin eğitilmesi \n",
    "score = model.fit(X_train, y_train, epochs = 100, validation_data=(X_valid,y_valid))"
   ]
  },
  {
   "cell_type": "code",
   "execution_count": null,
   "id": "bb08b58f",
   "metadata": {},
   "outputs": [],
   "source": [
    "print((\"Ortalama Doğrulama Kaybı:\", np.mean(model.history.history[\"val_loss\"])))\n",
    "print((\"Ortalama Doğrulama Başarımı: \", np.mean(model.history.history[\"val_accuracy\"]))) "
   ]
  },
  {
   "cell_type": "code",
   "execution_count": null,
   "id": "73347708",
   "metadata": {},
   "outputs": [],
   "source": [
    "#Eğitim ve doğrulama değerlerinin grafik üzerinde gösterilmesi\n",
    "import matplotlib.pyplot as plt\n",
    "\n",
    "plt.plot(model.history.history[\"accuracy\"],color=\"y\") \n",
    "plt.plot(model.history.history[\"val_accuracy\"],color=\"b\") \n",
    "plt.title(\"Model Başarımları\") \n",
    "plt.ylabel(\"Başarım\") \n",
    "plt.xlabel(\"Epok Sayısı\") \n",
    "plt.legend([\"Eğitim\",\"Test\"], loc=\"upper left\") \n",
    "plt.show() \n",
    "\n",
    "plt.plot(model.history.history[\"loss\"],color=\"g\")\n",
    "plt.plot(model.history.history[\"val_loss\"],color=\"r\") \n",
    "plt.title(\"Model Kayıpları\") \n",
    "plt.ylabel(\"Kayıp\")\n",
    "plt.xlabel(\"Epok Sayısı\") \n",
    "plt.legend ([\"Eğitim\",\"Doğrulama\"], loc=\"upper left\")\n",
    "plt.show() "
   ]
  },
  {
   "cell_type": "code",
   "execution_count": null,
   "id": "5311870c",
   "metadata": {},
   "outputs": [],
   "source": []
  },
  {
   "cell_type": "code",
   "execution_count": null,
   "id": "ccc9685b",
   "metadata": {},
   "outputs": [],
   "source": []
  },
  {
   "cell_type": "code",
   "execution_count": null,
   "id": "77af089c",
   "metadata": {},
   "outputs": [],
   "source": []
  },
  {
   "cell_type": "code",
   "execution_count": null,
   "id": "9a10733c",
   "metadata": {},
   "outputs": [],
   "source": []
  }
 ],
 "metadata": {
  "kernelspec": {
   "display_name": "Python 3 (ipykernel)",
   "language": "python",
   "name": "python3"
  },
  "language_info": {
   "codemirror_mode": {
    "name": "ipython",
    "version": 3
   },
   "file_extension": ".py",
   "mimetype": "text/x-python",
   "name": "python",
   "nbconvert_exporter": "python",
   "pygments_lexer": "ipython3",
   "version": "3.9.12"
  }
 },
 "nbformat": 4,
 "nbformat_minor": 5
}
